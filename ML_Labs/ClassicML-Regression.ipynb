{
 "cells": [
  {
   "cell_type": "markdown",
   "id": "9c832ff1-eb39-4909-88a6-b6f0a5747f76",
   "metadata": {},
   "source": [
    "# Install and import libraries"
   ]
  },
  {
   "cell_type": "code",
   "execution_count": null,
   "id": "4e79b292-3374-4340-9860-fc72aeb72b8a",
   "metadata": {},
   "outputs": [],
   "source": [
    "!pip install ydata_profiling==4.5.1\n",
    "!pip install matplotlib==3.7.3\n",
    "!pip install pandas\n",
    "!pip install numpy\n",
    "!pip install sklearn\n",
    "!pip install category_encoders\n",
    "!pip install imblearn\n",
    "!pip install tabulate\n",
    "!pip install seaborn"
   ]
  },
  {
   "cell_type": "code",
   "execution_count": 61,
   "id": "80267708-5245-49b6-9e31-65a1bc457510",
   "metadata": {},
   "outputs": [],
   "source": [
    "import pandas as pd\n",
    "import numpy as np\n",
    "import matplotlib.pyplot as plt\n",
    "import seaborn as sns\n",
    "from sklearn import metrics\n",
    "from sklearn.svm import SVC\n",
    "from sklearn.metrics import accuracy_score, classification_report, confusion_matrix\n",
    "from sklearn.preprocessing import LabelEncoder, PolynomialFeatures, RobustScaler, MinMaxScaler, StandardScaler\n",
    "from sklearn.model_selection import train_test_split\n",
    "from imblearn.combine import SMOTEENN\n",
    "from imblearn.over_sampling import RandomOverSampler\n",
    "from imblearn.under_sampling import RandomUnderSampler\n",
    "import warnings\n",
    "from sklearn.decomposition import PCA\n",
    "from sklearn.linear_model import LogisticRegression, Lasso, Ridge, LinearRegression"
   ]
  },
  {
   "cell_type": "markdown",
   "id": "57120234-01ed-4a92-bed4-d62df0da8253",
   "metadata": {},
   "source": [
    "# Regression Task"
   ]
  },
  {
   "cell_type": "markdown",
   "id": "dbcd2877-451e-4dd8-b7f0-fb846bc26405",
   "metadata": {},
   "source": [
    "Read data"
   ]
  },
  {
   "cell_type": "code",
   "execution_count": 36,
   "id": "91e5b644-4636-4b05-b71a-6fbb4efc9a5e",
   "metadata": {},
   "outputs": [],
   "source": [
    "df = pd.read_json('couriers_data.json')"
   ]
  },
  {
   "cell_type": "markdown",
   "id": "0727fecd-1d6a-4e93-a774-91a567914545",
   "metadata": {},
   "source": [
    "## Preprocessing data"
   ]
  },
  {
   "cell_type": "code",
   "execution_count": 37,
   "id": "35dfc05e-9614-4924-a3bd-05226ee656d0",
   "metadata": {},
   "outputs": [],
   "source": [
    "#encode column 'courier_transport'\n",
    "custom_mapping = {\n",
    "    'automobile': 4,\n",
    "    'bicycle': 3,\n",
    "    'scooter': 2,\n",
    "    'foot': 1,\n",
    "}\n",
    "df['courier_transport'] = df['courier_transport'].map(custom_mapping)"
   ]
  },
  {
   "cell_type": "markdown",
   "id": "d04989f6-69ac-431b-b39a-d8f5b68e178b",
   "metadata": {},
   "source": [
    "Make new feature instead two datetimes features. Retrieve day, month and hour of starting job"
   ]
  },
  {
   "cell_type": "code",
   "execution_count": 38,
   "id": "36e820ad-a46e-468a-b74f-8daa23fadb88",
   "metadata": {},
   "outputs": [],
   "source": [
    "#make new column - working time (in minutes) courier \n",
    "df['work_start'] = pd.to_datetime(df['work_start'])\n",
    "df['work_finish'] = pd.to_datetime(df['work_finish'])\n",
    "# Calculate the time difference in minutes\n",
    "df['minutes_engaged'] = (df['work_finish'] - df['work_start']).dt.total_seconds() / 60.0\n",
    "df['day'] = df['work_start'].dt.day\n",
    "df['month'] = df['work_start'].dt.month\n",
    "df['hour'] = df['work_start'].dt.hour\n",
    "\n",
    "#sort by time like time series and delete this feature (not meaningfull)\n",
    "df.sort_values(by=['work_start'])\n",
    "df.drop(['work_start', 'work_finish'], axis = 1, inplace=True)"
   ]
  },
  {
   "cell_type": "markdown",
   "id": "25cdfbed-4b64-4c00-b584-a1ef86ae96e2",
   "metadata": {},
   "source": [
    "### Split Data"
   ]
  },
  {
   "cell_type": "code",
   "execution_count": 39,
   "id": "a86cf80a-1ab4-4656-9224-d1bc50903370",
   "metadata": {},
   "outputs": [],
   "source": [
    "Y = df[['total_deliveries']] #targer value\n",
    "X = df.drop(['total_deliveries'], axis = 1)\n",
    "X_train, X_test, y_train, y_test = train_test_split(X, Y, test_size=0.1, shuffle = False) # shuffle = False - time series"
   ]
  },
  {
   "cell_type": "markdown",
   "id": "149678e7-1f72-4dca-bfd2-cec5ad766f1e",
   "metadata": {},
   "source": [
    "### Scaling\n",
    "It scales and transforms features (variables) in a dataset so that they fall within a specific range, typically between 0 and 1. MinMax scaling ensures that all features are on the same scale, making it easier for machine learning algorithms to work with the data. When features have different scales, some algorithms may give more weight to features with larger values, leading to biased or suboptimal results."
   ]
  },
  {
   "cell_type": "code",
   "execution_count": 40,
   "id": "5fbf1695-bdcd-4cb9-be3e-3d9ff36967b7",
   "metadata": {},
   "outputs": [],
   "source": [
    "columns_to_scale = [name for name in X_train.columns if name != 'courier_transport']\n",
    "\n",
    "# Create scaler instance\n",
    "scaler = MinMaxScaler()\n",
    "scaler.fit(X_train[columns_to_scale])\n",
    "\n",
    "# Transform the selected columns to standardize them\n",
    "X_train[columns_to_scale] = scaler.transform(X_train[columns_to_scale])\n",
    "X_test[columns_to_scale] = scaler.transform(X_test[columns_to_scale])\n",
    "\n",
    "scaler.fit(y_train)\n",
    "y_train = pd.DataFrame(scaler.transform(y_train))\n",
    "y_test = pd.DataFrame(scaler.transform(y_test))"
   ]
  },
  {
   "cell_type": "markdown",
   "id": "034dd40e-dc00-4709-a5c9-83356ae069ca",
   "metadata": {},
   "source": [
    "### Feature Selecting\n",
    "Lasso (Least Absolute Shrinkage and Selection Operator) is a regularization technique used in linear regression and other machine learning models to select important features and prevent overfitting. "
   ]
  },
  {
   "cell_type": "code",
   "execution_count": 41,
   "id": "8b750de2-699a-4d5b-a17c-f30cc31ad735",
   "metadata": {},
   "outputs": [
    {
     "name": "stdout",
     "output_type": "stream",
     "text": [
      "[('max_unique_pickups', 0.6043191197950485), ('minutes_engaged', 0.1444173057273459), ('late_deliveries(%)', -0.015967814862944206), ('courier_transport', 0.007331151874506309), ('courier_id', 0.0), ('late_pickups(%)', -0.0), ('day', -0.0), ('month', 0.0), ('hour', 0.0)]\n"
     ]
    }
   ],
   "source": [
    "# Create a Lasso model\n",
    "lasso = Lasso(alpha=0.001)\n",
    "# Fit the Lasso model on the training data\n",
    "lasso.fit(X_train, y_train)\n",
    "# Get the feature importances or coefficients\n",
    "feature_importances = lasso.coef_\n",
    "importance_dict = dict(zip(X_train.columns, feature_importances))\n",
    "sorted_importance = sorted(importance_dict.items(), key=lambda x: abs(x[1]), reverse=True)\n",
    "print(sorted_importance)\n",
    "\n",
    "df.drop(['courier_id', 'late_pickups(%)', 'day', 'month', 'hour'], axis = 1, inplace=True) #has zeroes coeficient"
   ]
  },
  {
   "cell_type": "markdown",
   "id": "ba03624d-8e57-46bf-8802-08a268934180",
   "metadata": {},
   "source": [
    "### DATA VISUALIZATION"
   ]
  },
  {
   "cell_type": "code",
   "execution_count": 42,
   "id": "e976bc09-0d69-402e-a4b4-d741fca2214c",
   "metadata": {},
   "outputs": [
    {
     "data": {
      "image/png": "[encoded data removed]",
      "text/plain": [
       "<Figure size 800x600 with 1 Axes>"
      ]
     },
     "metadata": {},
     "output_type": "display_data"
    }
   ],
   "source": [
    "#plot depency of max_unique_pickups on target value (max_unique_pickups more correlate)\n",
    "plt.figure(figsize=(8, 6))\n",
    "plt.scatter(X_train['max_unique_pickups'], y_train, c='blue')\n",
    "plt.xlabel('max_unique_pickups')\n",
    "plt.ylabel('Predictions')\n",
    "plt.title(f'Scatterplot of max_unique_pickups vs. Predictions')\n",
    "plt.show()"
   ]
  },
  {
   "cell_type": "code",
   "execution_count": 43,
   "id": "59f8ed01-9f8f-4ba2-b447-ef863d1b5a48",
   "metadata": {},
   "outputs": [
    {
     "name": "stderr",
     "output_type": "stream",
     "text": [
      "No artists with labels found to put in legend.  Note that artists whose label start with an underscore are ignored when legend() is called with no argument.\n"
     ]
    },
    {
     "data": {
      "image/png": "[encoded data removed]",
      "text/plain": [
       "<Figure size 1000x600 with 1 Axes>"
      ]
     },
     "metadata": {},
     "output_type": "display_data"
    }
   ],
   "source": [
    "n_components = 2  # Number of components for 2D visualization\n",
    "pca = PCA(n_components=n_components)\n",
    "X_pca = pca.fit_transform(X_train)\n",
    "pca_df = pd.DataFrame(data=np.c_[X_pca, y_train], columns=[f'PC{i}' for i in range(1, n_components + 1)] + ['target'])\n",
    "plt.figure(figsize=(10, 6))\n",
    "plt.scatter(pca_df['PC1'], pca_df['PC2'])    \n",
    "plt.xlabel('Principal Component 1')\n",
    "plt.ylabel('Principal Component 2')\n",
    "plt.title('PCA Visualization of Data')\n",
    "plt.legend()\n",
    "plt.show()"
   ]
  },
  {
   "cell_type": "markdown",
   "id": "059d81e1-996e-4c68-b49b-b143653c6908",
   "metadata": {},
   "source": [
    "On first picture we see, that we have something similar to a linear relationship. On the second one we also see several groups of linearly dependent points. "
   ]
  },
  {
   "cell_type": "markdown",
   "id": "af4c2611-4947-4ab6-aa40-851b4aeee015",
   "metadata": {},
   "source": [
    "### Model train and evaluate"
   ]
  },
  {
   "cell_type": "code",
   "execution_count": 48,
   "id": "c8029729-fd2c-411e-98ce-f051d696b02b",
   "metadata": {},
   "outputs": [
    {
     "name": "stdout",
     "output_type": "stream",
     "text": [
      "\n",
      " LinearRegression\n",
      "Mean Absolute Error train: 0.05916996851051483\n",
      "Root Mean Squared Error train: 0.08959445074418257\n",
      "coefficient of determination  𝑅2 train: 0.6584460162897587\n",
      "Mean Absolute Error test: 0.05700907562448495\n",
      "Root Mean Squared Error test: 0.08619814673499283\n",
      "coefficient of determination  𝑅2 test: 0.6039164782347346\n",
      "\n",
      " Lasso\n",
      "Mean Absolute Error train: 0.12439681912697993\n",
      "Root Mean Squared Error train: 0.1533032753893507\n",
      "coefficient of determination  𝑅2 train: 0.0\n",
      "Mean Absolute Error test: 0.11488271142361069\n",
      "Root Mean Squared Error test: 0.139906129913129\n",
      "coefficient of determination  𝑅2 test: -0.0434326072730562\n",
      "\n",
      " Ridge\n",
      "Mean Absolute Error train: 0.059204129588392385\n",
      "Root Mean Squared Error train: 0.08959539075058676\n",
      "coefficient of determination  𝑅2 train: 0.6584388492249762\n",
      "Mean Absolute Error test: 0.05703437245989278\n",
      "Root Mean Squared Error test: 0.08621076045529957\n",
      "coefficient of determination  𝑅2 test: 0.6038005487745406\n",
      "\n",
      " Polynomial regression\n",
      "\n",
      " degree of polynomial  2\n",
      "Mean Absolute Error train: 0.053241502597283843\n",
      "Root Mean Squared Error train: 0.07978024967477035\n",
      "coefficient of determination  𝑅2 train: 0.7291755221179717\n",
      "Mean Absolute Error test: 0.052494255027058574\n",
      "Root Mean Squared Error test: 0.08062921983258664\n",
      "coefficient of determination  𝑅2 test: 0.6534420763828371\n",
      "\n",
      " degree of polynomial  4\n",
      "Mean Absolute Error train: 0.04580416851658539\n",
      "Root Mean Squared Error train: 0.06914735840360219\n",
      "coefficient of determination  𝑅2 train: 0.7965543915596307\n",
      "Mean Absolute Error test: 21.837467319188175\n",
      "Root Mean Squared Error test: 536.9883686831017\n",
      "coefficient of determination  𝑅2 test: -15371655.656731253\n",
      "\n",
      " degree of polynomial  6\n",
      "Mean Absolute Error train: 0.03628227460312916\n",
      "Root Mean Squared Error train: 0.056929531220580615\n",
      "coefficient of determination  𝑅2 train: 0.8620974338836387\n",
      "Mean Absolute Error test: 16.193873067498714\n",
      "Root Mean Squared Error test: 246.39386464067115\n",
      "coefficient of determination  𝑅2 test: -3236313.332478568\n",
      "\n",
      " degree of polynomial  8\n",
      "Mean Absolute Error train: 0.015567869419604401\n",
      "Root Mean Squared Error train: 0.02854329042852542\n",
      "coefficient of determination  𝑅2 train: 0.9653338824526067\n",
      "Mean Absolute Error test: 1283.6797500850557\n",
      "Root Mean Squared Error test: 13049.965677404178\n",
      "coefficient of determination  𝑅2 test: -9078407158.276188\n"
     ]
    }
   ],
   "source": [
    "regressor = LinearRegression()\n",
    "regressor.fit(X_train, y_train)\n",
    "y_pred_train = regressor.predict(X_train)\n",
    "y_pred_test = regressor.predict(X_test)\n",
    "print(\"\\n LinearRegression\")\n",
    "print('Mean Absolute Error train:', metrics.mean_absolute_error(y_train, y_pred_train))\n",
    "print('Root Mean Squared Error train:', np.sqrt(metrics.mean_squared_error(y_train, y_pred_train)))\n",
    "print('coefficient of determination  𝑅2 train:', metrics.r2_score(y_train, y_pred_train)) \n",
    "print('Mean Absolute Error test:', metrics.mean_absolute_error(y_test, y_pred_test))\n",
    "print('Root Mean Squared Error test:', np.sqrt(metrics.mean_squared_error(y_test, y_pred_test)))\n",
    "print('coefficient of determination  𝑅2 test:', metrics.r2_score(y_test, y_pred_test))\n",
    "\n",
    "regressor = Lasso()\n",
    "regressor.fit(X_train, y_train)\n",
    "y_pred_train = regressor.predict(X_train)\n",
    "y_pred_test = regressor.predict(X_test)\n",
    "print(\"\\n Lasso\")\n",
    "print('Mean Absolute Error train:', metrics.mean_absolute_error(y_train, y_pred_train))\n",
    "print('Root Mean Squared Error train:', np.sqrt(metrics.mean_squared_error(y_train, y_pred_train)))\n",
    "print('coefficient of determination  𝑅2 train:', metrics.r2_score(y_train, y_pred_train)) \n",
    "print('Mean Absolute Error test:', metrics.mean_absolute_error(y_test, y_pred_test))\n",
    "print('Root Mean Squared Error test:', np.sqrt(metrics.mean_squared_error(y_test, y_pred_test)))\n",
    "print('coefficient of determination  𝑅2 test:', metrics.r2_score(y_test, y_pred_test))\n",
    "\n",
    "regressor = Ridge()\n",
    "regressor.fit(X_train, y_train)\n",
    "y_pred_train = regressor.predict(X_train)\n",
    "y_pred_test = regressor.predict(X_test)\n",
    "print(\"\\n Ridge\")\n",
    "print('Mean Absolute Error train:', metrics.mean_absolute_error(y_train, y_pred_train))\n",
    "print('Root Mean Squared Error train:', np.sqrt(metrics.mean_squared_error(y_train, y_pred_train)))\n",
    "print('coefficient of determination  𝑅2 train:', metrics.r2_score(y_train, y_pred_train)) \n",
    "print('Mean Absolute Error test:', metrics.mean_absolute_error(y_test, y_pred_test))\n",
    "print('Root Mean Squared Error test:', np.sqrt(metrics.mean_squared_error(y_test, y_pred_test)))\n",
    "print('coefficient of determination  𝑅2 test:', metrics.r2_score(y_test, y_pred_test))\n",
    "\n",
    "print(\"\\n Polynomial regression\")\n",
    "degrees = [2, 4, 6, 8]\n",
    "for i in range(len(degrees)):\n",
    "    poly = PolynomialFeatures(degree=degrees[i])  # You can adjust the degree as needed\n",
    "    X_poly_train = poly.fit_transform(X_train)\n",
    "    X_poly_test = poly.transform(X_test)\n",
    "    regressor = LinearRegression()\n",
    "    regressor.fit(X_poly_train, y_train)\n",
    "    y_pred_train = regressor.predict(X_poly_train)\n",
    "    y_pred_test = regressor.predict(X_poly_test)\n",
    "    print(\"\\n degree of polynomial \", degrees[i])\n",
    "    print('Mean Absolute Error train:', metrics.mean_absolute_error(y_train, y_pred_train))\n",
    "    print('Root Mean Squared Error train:', np.sqrt(metrics.mean_squared_error(y_train, y_pred_train)))\n",
    "    print('coefficient of determination  𝑅2 train:', metrics.r2_score(y_train, y_pred_train)) \n",
    "    print('Mean Absolute Error test:', metrics.mean_absolute_error(y_test, y_pred_test))\n",
    "    print('Root Mean Squared Error test:', np.sqrt(metrics.mean_squared_error(y_test, y_pred_test)))\n",
    "    print('coefficient of determination  𝑅2 test:', metrics.r2_score(y_test, y_pred_test))"
   ]
  },
  {
   "cell_type": "markdown",
   "id": "d24a1c13-052b-45fa-8d8d-c8eab042205f",
   "metadata": {},
   "source": [
    "# Classification task"
   ]
  },
  {
   "cell_type": "markdown",
   "id": "7cb5530c-5397-40ef-bdc5-476f590ea0ca",
   "metadata": {},
   "source": [
    "### Read Data"
   ]
  },
  {
   "cell_type": "code",
   "execution_count": 50,
   "id": "80ba4781-ff12-4f8c-ae5b-51d75933359f",
   "metadata": {},
   "outputs": [],
   "source": [
    "df = pd.read_json('order_cancellation_data.json')\n",
    "\n",
    "df.sort_values(by=['order_create_time']) #like time series\n",
    "df.drop(['order_create_time'], axis = 1, inplace=True)"
   ]
  },
  {
   "cell_type": "markdown",
   "id": "3ed7fe94-4009-4fbd-89ce-7436f4ee6dde",
   "metadata": {},
   "source": [
    "## Preprocessing data"
   ]
  },
  {
   "cell_type": "code",
   "execution_count": 51,
   "id": "8f906fcb-2233-4153-912e-412f78d245bf",
   "metadata": {},
   "outputs": [],
   "source": [
    "df.loc[df['payment_type'].isna(), 'payment_type'] = 'Other' # impute missing values by frequance\n",
    "\n",
    "#encode the data\n",
    "label_encoder = LabelEncoder()\n",
    "df['order_status'] = label_encoder.fit_transform(df['order_status'])\n",
    "df['payment_type'] = label_encoder.fit_transform(df['payment_type'])"
   ]
  },
  {
   "cell_type": "markdown",
   "id": "bfb663f1-1b63-4017-b91e-f39dd32672d5",
   "metadata": {},
   "source": [
    "### Split the data"
   ]
  },
  {
   "cell_type": "code",
   "execution_count": 52,
   "id": "cb872c7e-1472-4e11-8b03-fb3fe4df55f4",
   "metadata": {},
   "outputs": [],
   "source": [
    "train, test = train_test_split(df, test_size=0.1, shuffle = False) #like time-series"
   ]
  },
  {
   "cell_type": "markdown",
   "id": "a83c2f00-71ba-45d7-bddc-98beaae0c00a",
   "metadata": {},
   "source": [
    "### Impute the missing cells"
   ]
  },
  {
   "cell_type": "code",
   "execution_count": 53,
   "id": "0e92e290-1175-443c-96ee-53010286bd11",
   "metadata": {},
   "outputs": [],
   "source": [
    "columns_to_impute = ['cost(USD)', 'estimated_delivery_time', 'vendor_client_distance', 'predicted_order_preparation_time']\n",
    "for column in columns_to_impute:\n",
    "    mean_col = train.groupby('vendor_id')[column].transform('mean') #calculate mean for each vendor\n",
    "    train[column].fillna(mean_col, inplace=True)\n",
    "    train[column].fillna(mean_col.mean(), inplace=True)\n",
    "    test[column].fillna(mean_col, inplace=True)\n",
    "    test[column].fillna(mean_col.mean(), inplace=True)"
   ]
  },
  {
   "cell_type": "markdown",
   "id": "b36f5271-6045-4407-bce8-17bc9bcbdffa",
   "metadata": {},
   "source": [
    "### Split X and Y"
   ]
  },
  {
   "cell_type": "code",
   "execution_count": 54,
   "id": "5585c496-4aad-4036-9f83-a0892e2ec5aa",
   "metadata": {},
   "outputs": [],
   "source": [
    "y_train = train['order_status']\n",
    "X_train = train.drop(['order_status'], axis = 1)\n",
    "y_test = test['order_status']\n",
    "X_test = test.drop(['order_status'], axis = 1)"
   ]
  },
  {
   "cell_type": "markdown",
   "id": "e5bb89e3-d6ed-4077-8428-156b47546749",
   "metadata": {},
   "source": [
    "### Feature selection"
   ]
  },
  {
   "cell_type": "code",
   "execution_count": 55,
   "id": "d00e9e06-32eb-4f32-99d4-5029c89954bf",
   "metadata": {},
   "outputs": [
    {
     "name": "stdout",
     "output_type": "stream",
     "text": [
      "[('total_order_items', 0.010248993400864664), ('payment_type', -0.0024601396164804943), ('tot_unique_items', -0.0013718401294962744), ('predicted_order_preparation_time', -0.0003723963665687729), ('cost(USD)', 0.00019058899383892782), ('estimated_delivery_time', -1.2432622589692792e-05), ('vendor_id', -9.628939839720953e-06), ('vendor_client_distance', -3.158827594933669e-06)]\n"
     ]
    }
   ],
   "source": [
    "lasso = Lasso(alpha=0.001)\n",
    "lasso.fit(X_train, y_train)\n",
    "feature_importances = lasso.coef_\n",
    "importance_dict = dict(zip(X_train.columns, feature_importances))\n",
    "sorted_importance = sorted(importance_dict.items(), key=lambda x: abs(x[1]), reverse=True)\n",
    "print(sorted_importance)\n",
    "\n",
    "X_train.drop(['tot_unique_items'], axis = 1, inplace=True)\n",
    "X_test.drop(['tot_unique_items'], axis = 1, inplace=True)\n",
    "X_train.drop(['estimated_delivery_time'], axis = 1, inplace=True)\n",
    "X_test.drop(['estimated_delivery_time'], axis = 1, inplace=True)"
   ]
  },
  {
   "cell_type": "markdown",
   "id": "7763b796-360c-42f4-8c94-094dd054fbee",
   "metadata": {},
   "source": [
    "### Scaling with RobustScaler, becuase we have outliers"
   ]
  },
  {
   "cell_type": "code",
   "execution_count": 56,
   "id": "b54699bd-dac2-49f0-8b9a-e56696b549ca",
   "metadata": {},
   "outputs": [],
   "source": [
    "columns_to_scale = [name for name in X_train.columns if name != 'payment_type']\n",
    "\n",
    "scaler = RobustScaler()\n",
    "scaler.fit(X_train[columns_to_scale])\n",
    "X_train[columns_to_scale] = scaler.transform(X_train[columns_to_scale])\n",
    "X_test[columns_to_scale] = scaler.transform(X_test[columns_to_scale])"
   ]
  },
  {
   "cell_type": "markdown",
   "id": "6869e278-eade-4f91-83e3-38feb6262bf3",
   "metadata": {},
   "source": [
    "### DATA VISUALIZATION"
   ]
  },
  {
   "cell_type": "code",
   "execution_count": 57,
   "id": "79787750-323e-480b-b1bf-cc7853881951",
   "metadata": {},
   "outputs": [
    {
     "data": {
      "image/png": "[encoded data removed]",
      "text/plain": [
       "<Figure size 1000x600 with 1 Axes>"
      ]
     },
     "metadata": {},
     "output_type": "display_data"
    }
   ],
   "source": [
    "n_components = 2  # Number of components for 2D visualization\n",
    "pca = PCA(n_components=n_components)\n",
    "X_pca = pca.fit_transform(X_train)\n",
    "pca_df = pd.DataFrame(data=np.c_[X_pca, y_train], columns=[f'PC{i}' for i in range(1, n_components + 1)] + ['target'])\n",
    "plt.figure(figsize=(10, 6))\n",
    "for target_value in pca_df['target'].unique():\n",
    "    subset = pca_df[pca_df['target'] == target_value]\n",
    "    plt.scatter(subset['PC1'], subset['PC2'], label=f'Target {target_value}')    \n",
    "plt.xlabel('Principal Component 1')\n",
    "plt.ylabel('Principal Component 2')\n",
    "plt.title('PCA Visualization of Data')\n",
    "plt.legend()\n",
    "plt.show()"
   ]
  },
  {
   "cell_type": "markdown",
   "id": "16bcfb02-c61e-45f2-b66a-2b285ce8253e",
   "metadata": {},
   "source": [
    "We can see that data the two classes are poorly separable.\n",
    "For classification problem difficult to analyze plot dependece target value on feature, because we will se two lines on graph, parallel axes X, and that's all (on y axese will be 2 distinnct values: 0 and 1)"
   ]
  },
  {
   "cell_type": "markdown",
   "id": "1613d4ee-2989-4390-98ae-5e7313bfcdd1",
   "metadata": {},
   "source": [
    "### Train models and evaluate without remove outliers and imbalance"
   ]
  },
  {
   "cell_type": "code",
   "execution_count": 58,
   "id": "0689493c-72cf-4b26-8a78-3050dce5ed76",
   "metadata": {},
   "outputs": [
    {
     "name": "stdout",
     "output_type": "stream",
     "text": [
      "\n",
      "LogisticRegression with L1\n",
      "Train accuracy = 0.8722561232380617\n",
      "Train precision = 0.8722503225905264\n",
      "Train recall = 0.9999780516926534\n",
      "Testing accuracy = 0.8639104220499569\n",
      "Testing precision = 0.8639104220499569\n",
      "Testing recall = 1.0\n",
      "Confusion Matrix:\n",
      " [[    0  3950]\n",
      " [    0 25075]]\n",
      "\n",
      "LogisticRegression with L2\n",
      "Train accuracy = 0.8722561232380617\n",
      "Train precision = 0.8722503225905264\n",
      "Train recall = 0.9999780516926534\n",
      "Testing accuracy = 0.8639104220499569\n",
      "Testing precision = 0.8639104220499569\n",
      "Testing recall = 1.0\n",
      "Confusion Matrix:\n",
      " [[    0  3950]\n",
      " [    0 25075]]\n"
     ]
    }
   ],
   "source": [
    "# Logistic Regression with L1 regularization\n",
    "l1_logreg = LogisticRegression(penalty='l1', solver='liblinear', C=1.0)\n",
    "l1_logreg.fit(X_train, y_train)\n",
    "print(\"\\nLogisticRegression with L1\")\n",
    "y_pred_train = l1_logreg.predict(X_train)\n",
    "y_pred_test = l1_logreg.predict(X_test)\n",
    "confusion_mat = confusion_matrix(y_test, y_pred_test)\n",
    "print('Train accuracy = {}'.format(metrics.accuracy_score(y_train, y_pred_train)))\n",
    "print('Train precision = {}'.format(metrics.precision_score(y_train, y_pred_train)))\n",
    "print('Train recall = {}'.format(metrics.recall_score(y_train, y_pred_train)))\n",
    "print('Testing accuracy = {}'.format(metrics.accuracy_score(y_test, y_pred_test)))\n",
    "print('Testing precision = {}'.format(metrics.precision_score(y_test, y_pred_test)))\n",
    "print('Testing recall = {}'.format(metrics.recall_score(y_test, y_pred_test)))\n",
    "print(\"Confusion Matrix:\\n\", confusion_mat)\n",
    "\n",
    "# Logistic Regression with L2 regularization\n",
    "l2_logreg = LogisticRegression(penalty='l2', solver='lbfgs', C=1.0)\n",
    "l2_logreg.fit(X_train, y_train)\n",
    "\n",
    "print(\"\\nLogisticRegression with L2\")\n",
    "y_pred_train = l2_logreg.predict(X_train)\n",
    "y_pred_test = l2_logreg.predict(X_test)\n",
    "confusion_mat = confusion_matrix(y_test, y_pred_test)\n",
    "print('Train accuracy = {}'.format(metrics.accuracy_score(y_train, y_pred_train)))\n",
    "print('Train precision = {}'.format(metrics.precision_score(y_train, y_pred_train)))\n",
    "print('Train recall = {}'.format(metrics.recall_score(y_train, y_pred_train)))\n",
    "print('Testing accuracy = {}'.format(metrics.accuracy_score(y_test, y_pred_test)))\n",
    "print('Testing precision = {}'.format(metrics.precision_score(y_test, y_pred_test)))\n",
    "print('Testing recall = {}'.format(metrics.recall_score(y_test, y_pred_test)))\n",
    "print(\"Confusion Matrix:\\n\", confusion_mat)"
   ]
  },
  {
   "cell_type": "markdown",
   "id": "6c3bb92a-6d92-445b-b56a-da32e5328e2e",
   "metadata": {},
   "source": [
    "### Train models and evaluate with remove outliers and imbalance"
   ]
  },
  {
   "cell_type": "code",
   "execution_count": 80,
   "id": "194808d0-ad1c-4d28-92fe-0d4b4db8d49d",
   "metadata": {},
   "outputs": [
    {
     "name": "stdout",
     "output_type": "stream",
     "text": [
      "\n",
      "LogisticRegression with L1\n",
      "Train accuracy = 0.9999372210617631\n",
      "Train precision = 0.9999372210617631\n",
      "Train recall = 1.0\n",
      "Testing accuracy = 0.8639104220499569\n",
      "Testing precision = 0.8639104220499569\n",
      "Testing recall = 1.0\n",
      "Confusion Matrix:\n",
      " [[    0  3950]\n",
      " [    0 25075]]\n",
      "\n",
      "LogisticRegression with L2\n",
      "Train accuracy = 0.9999372210617631\n",
      "Train precision = 0.9999372210617631\n",
      "Train recall = 1.0\n",
      "Testing accuracy = 0.8639104220499569\n",
      "Testing precision = 0.8639104220499569\n",
      "Testing recall = 1.0\n",
      "Confusion Matrix:\n",
      " [[    0  3950]\n",
      " [    0 25075]]\n"
     ]
    }
   ],
   "source": [
    "df = pd.read_json('order_cancellation_data.json')\n",
    "\n",
    "df.sort_values(by=['order_create_time']) #like time series\n",
    "df.drop(['order_create_time'], axis = 1, inplace=True)\n",
    "\n",
    "df.loc[df['payment_type'].isna(), 'payment_type'] = 'Other' # impute missing values by frequance\n",
    "\n",
    "#encode the data\n",
    "label_encoder = LabelEncoder()\n",
    "df['order_status'] = label_encoder.fit_transform(df['order_status'])\n",
    "df['payment_type'] = label_encoder.fit_transform(df['payment_type'])\n",
    "\n",
    "train, test = train_test_split(df, test_size=0.1, shuffle = False) #like time-series\n",
    "\n",
    "train = train.loc[(train['cost(USD)']) > 0]\n",
    "train = train.loc[(train['total_order_items']) > 0 & (train['tot_unique_items'] > 0)]\n",
    "\n",
    "q = train[\"cost(USD)\"].quantile(0.95)\n",
    "train = train.loc[train[\"cost(USD)\"] <= q]\n",
    "q = train[\"total_order_items\"].quantile(0.95)\n",
    "train = train.loc[train[\"total_order_items\"] <= q] #remove outliers and from unique\n",
    "\n",
    "q = train[\"estimated_delivery_time\"].quantile(0.95)\n",
    "train = train.loc[train[\"estimated_delivery_time\"] <= q]\n",
    "q = train[\"vendor_client_distance\"].quantile(0.95)\n",
    "train = train.loc[train[\"vendor_client_distance\"] <= q]\n",
    "q = train[\"predicted_order_preparation_time\"].quantile(0.95)\n",
    "train = train.loc[train[\"predicted_order_preparation_time\"] <= q]\n",
    "\n",
    "columns_to_impute = ['cost(USD)', 'estimated_delivery_time', 'vendor_client_distance', 'predicted_order_preparation_time']\n",
    "for column in columns_to_impute:\n",
    "    mean_col = train.groupby('vendor_id')[column].transform('mean') #calculate mean for each vendor\n",
    "    train[column].fillna(mean_col, inplace=True)\n",
    "    train[column].fillna(mean_col.mean(), inplace=True)\n",
    "    test[column].fillna(mean_col, inplace=True)\n",
    "    test[column].fillna(mean_col.mean(), inplace=True)\n",
    "\n",
    "y_train = train['order_status']\n",
    "X_train = train.drop(['order_status'], axis = 1)\n",
    "y_test = test['order_status']\n",
    "X_test = test.drop(['order_status'], axis = 1)\n",
    "\n",
    "X_train.drop(['tot_unique_items'], axis = 1, inplace=True)\n",
    "X_test.drop(['tot_unique_items'], axis = 1, inplace=True)\n",
    "X_train.drop(['estimated_delivery_time'], axis = 1, inplace=True)\n",
    "X_test.drop(['estimated_delivery_time'], axis = 1, inplace=True)\n",
    "\n",
    "columns_to_scale = [name for name in X_train.columns if name != 'payment_type']\n",
    "\n",
    "scaler = StandardScaler()\n",
    "scaler.fit(X_train[columns_to_scale])\n",
    "X_train[columns_to_scale] = scaler.transform(X_train[columns_to_scale])\n",
    "X_test[columns_to_scale] = scaler.transform(X_test[columns_to_scale])\n",
    "\n",
    "# Logistic Regression with L1 regularization\n",
    "l1_logreg = LogisticRegression(penalty='l1', solver='liblinear', C=1.0)\n",
    "l1_logreg.fit(X_train, y_train)\n",
    "print(\"\\nLogisticRegression with L1\")\n",
    "y_pred_train = l1_logreg.predict(X_train)\n",
    "y_pred_test = l1_logreg.predict(X_test)\n",
    "confusion_mat = confusion_matrix(y_test, y_pred_test)\n",
    "print('Train accuracy = {}'.format(metrics.accuracy_score(y_train, y_pred_train)))\n",
    "print('Train precision = {}'.format(metrics.precision_score(y_train, y_pred_train)))\n",
    "print('Train recall = {}'.format(metrics.recall_score(y_train, y_pred_train)))\n",
    "print('Testing accuracy = {}'.format(metrics.accuracy_score(y_test, y_pred_test)))\n",
    "print('Testing precision = {}'.format(metrics.precision_score(y_test, y_pred_test)))\n",
    "print('Testing recall = {}'.format(metrics.recall_score(y_test, y_pred_test)))\n",
    "print(\"Confusion Matrix:\\n\", confusion_mat)\n",
    "\n",
    "# Logistic Regression with L2 regularization\n",
    "l2_logreg = LogisticRegression(penalty='l2', solver='lbfgs', C=1.0)\n",
    "l2_logreg.fit(X_train, y_train)\n",
    "\n",
    "print(\"\\nLogisticRegression with L2\")\n",
    "y_pred_train = l2_logreg.predict(X_train)\n",
    "y_pred_test = l2_logreg.predict(X_test)\n",
    "confusion_mat = confusion_matrix(y_test, y_pred_test)\n",
    "print('Train accuracy = {}'.format(metrics.accuracy_score(y_train, y_pred_train)))\n",
    "print('Train precision = {}'.format(metrics.precision_score(y_train, y_pred_train)))\n",
    "print('Train recall = {}'.format(metrics.recall_score(y_train, y_pred_train)))\n",
    "print('Testing accuracy = {}'.format(metrics.accuracy_score(y_test, y_pred_test)))\n",
    "print('Testing precision = {}'.format(metrics.precision_score(y_test, y_pred_test)))\n",
    "print('Testing recall = {}'.format(metrics.recall_score(y_test, y_pred_test)))\n",
    "print(\"Confusion Matrix:\\n\", confusion_mat)"
   ]
  },
  {
   "cell_type": "markdown",
   "id": "62cc67f5-e8db-476e-9320-add43038be20",
   "metadata": {},
   "source": [
    "### Train models and evaluate with remove outliers and balance OverSampling"
   ]
  },
  {
   "cell_type": "code",
   "execution_count": 81,
   "id": "5f8413fc-a56e-460a-a519-80157d385748",
   "metadata": {},
   "outputs": [
    {
     "name": "stdout",
     "output_type": "stream",
     "text": [
      "\n",
      "LogisticRegression with L1\n",
      "Train accuracy = 0.8552711935025427\n",
      "Train precision = 0.8980330468590138\n",
      "Train recall = 0.8015547324022442\n",
      "Testing accuracy = 0.7605857019810508\n",
      "Testing precision = 0.8737936154417223\n",
      "Testing recall = 0.8449052841475573\n",
      "Confusion Matrix:\n",
      " [[  890  3060]\n",
      " [ 3889 21186]]\n",
      "\n",
      "LogisticRegression with L2\n",
      "Train accuracy = 0.8552883161060917\n",
      "Train precision = 0.8980369588848391\n",
      "Train recall = 0.8015889776093421\n",
      "Testing accuracy = 0.7605857019810508\n",
      "Testing precision = 0.8737936154417223\n",
      "Testing recall = 0.8449052841475573\n",
      "Confusion Matrix:\n",
      " [[  890  3060]\n",
      " [ 3889 21186]]\n"
     ]
    }
   ],
   "source": [
    "df = pd.read_json('order_cancellation_data.json')\n",
    "\n",
    "df.sort_values(by=['order_create_time']) #like time series\n",
    "df.drop(['order_create_time'], axis = 1, inplace=True)\n",
    "\n",
    "df.loc[df['payment_type'].isna(), 'payment_type'] = 'Other' # impute missing values by frequance\n",
    "\n",
    "#encode the data\n",
    "label_encoder = LabelEncoder()\n",
    "df['order_status'] = label_encoder.fit_transform(df['order_status'])\n",
    "df['payment_type'] = label_encoder.fit_transform(df['payment_type'])\n",
    "\n",
    "train, test = train_test_split(df, test_size=0.1, shuffle = False) #like time-series\n",
    "\n",
    "train = train.loc[(train['cost(USD)']) > 0]\n",
    "train = train.loc[(train['total_order_items']) > 0 & (train['tot_unique_items'] > 0)]\n",
    "\n",
    "q = train[\"cost(USD)\"].quantile(0.95)\n",
    "train = train.loc[train[\"cost(USD)\"] <= q]\n",
    "#checked if tot_unique_items > total_order_items -> it's none\n",
    "q = train[\"total_order_items\"].quantile(0.95)\n",
    "train = train.loc[train[\"total_order_items\"] <= q] #remove outliers and from unique\n",
    "\n",
    "q = train[\"estimated_delivery_time\"].quantile(0.95)\n",
    "train = train.loc[train[\"estimated_delivery_time\"] <= q]\n",
    "q = train[\"vendor_client_distance\"].quantile(0.95)\n",
    "train = train.loc[train[\"vendor_client_distance\"] <= q]\n",
    "q = train[\"predicted_order_preparation_time\"].quantile(0.95)\n",
    "train = train.loc[train[\"predicted_order_preparation_time\"] <= q]\n",
    "\n",
    "columns_to_impute = ['cost(USD)', 'estimated_delivery_time', 'vendor_client_distance', 'predicted_order_preparation_time']\n",
    "for column in columns_to_impute:\n",
    "    mean_col = train.groupby('vendor_id')[column].transform('mean') #calculate mean for each vendor\n",
    "    train[column].fillna(mean_col, inplace=True)\n",
    "    train[column].fillna(mean_col.mean(), inplace=True)\n",
    "    test[column].fillna(mean_col, inplace=True)\n",
    "    test[column].fillna(mean_col.mean(), inplace=True)\n",
    "\n",
    "y_train = train['order_status']\n",
    "X_train = train.drop(['order_status'], axis = 1)\n",
    "y_test = test['order_status']\n",
    "X_test = test.drop(['order_status'], axis = 1)\n",
    "\n",
    "X_train.drop(['tot_unique_items'], axis = 1, inplace=True)\n",
    "X_test.drop(['tot_unique_items'], axis = 1, inplace=True)\n",
    "X_train.drop(['estimated_delivery_time'], axis = 1, inplace=True)\n",
    "X_test.drop(['estimated_delivery_time'], axis = 1, inplace=True)\n",
    "\n",
    "columns_to_scale = [name for name in X_train.columns if name != 'payment_type']\n",
    "\n",
    "scaler = StandardScaler()\n",
    "scaler.fit(X_train[columns_to_scale])\n",
    "X_train[columns_to_scale] = scaler.transform(X_train[columns_to_scale])\n",
    "X_test[columns_to_scale] = scaler.transform(X_test[columns_to_scale])\n",
    "\n",
    "#balance\n",
    "over_sampl = RandomOverSampler(random_state=0)\n",
    "X_train, y_train = over_sampl.fit_resample(X_train, y_train)\n",
    "\n",
    "# Logistic Regression with L1 regularization\n",
    "l1_logreg = LogisticRegression(penalty='l1', solver='liblinear', C=1.0)\n",
    "l1_logreg.fit(X_train, y_train)\n",
    "print(\"\\nLogisticRegression with L1\")\n",
    "y_pred_train = l1_logreg.predict(X_train)\n",
    "y_pred_test = l1_logreg.predict(X_test)\n",
    "confusion_mat = confusion_matrix(y_test, y_pred_test)\n",
    "print('Train accuracy = {}'.format(metrics.accuracy_score(y_train, y_pred_train)))\n",
    "print('Train precision = {}'.format(metrics.precision_score(y_train, y_pred_train)))\n",
    "print('Train recall = {}'.format(metrics.recall_score(y_train, y_pred_train)))\n",
    "print('Testing accuracy = {}'.format(metrics.accuracy_score(y_test, y_pred_test)))\n",
    "print('Testing precision = {}'.format(metrics.precision_score(y_test, y_pred_test)))\n",
    "print('Testing recall = {}'.format(metrics.recall_score(y_test, y_pred_test)))\n",
    "print(\"Confusion Matrix:\\n\", confusion_mat)\n",
    "\n",
    "# Logistic Regression with L2 regularization\n",
    "l2_logreg = LogisticRegression(penalty='l2', solver='lbfgs', C=1.0)\n",
    "l2_logreg.fit(X_train, y_train)\n",
    "\n",
    "print(\"\\nLogisticRegression with L2\")\n",
    "y_pred_train = l2_logreg.predict(X_train)\n",
    "y_pred_test = l2_logreg.predict(X_test)\n",
    "confusion_mat = confusion_matrix(y_test, y_pred_test)\n",
    "print('Train accuracy = {}'.format(metrics.accuracy_score(y_train, y_pred_train)))\n",
    "print('Train precision = {}'.format(metrics.precision_score(y_train, y_pred_train)))\n",
    "print('Train recall = {}'.format(metrics.recall_score(y_train, y_pred_train)))\n",
    "print('Testing accuracy = {}'.format(metrics.accuracy_score(y_test, y_pred_test)))\n",
    "print('Testing precision = {}'.format(metrics.precision_score(y_test, y_pred_test)))\n",
    "print('Testing recall = {}'.format(metrics.recall_score(y_test, y_pred_test)))\n",
    "print(\"Confusion Matrix:\\n\", confusion_mat)"
   ]
  },
  {
   "cell_type": "markdown",
   "id": "a021cb91-a42b-4036-a9b6-edbbb8658e5f",
   "metadata": {},
   "source": [
    "### Train models and evaluate with remove outliers and balance UperSampling"
   ]
  },
  {
   "cell_type": "code",
   "execution_count": 82,
   "id": "58366dbd-160a-4c42-9ac4-a272ff5dc93b",
   "metadata": {},
   "outputs": [
    {
     "name": "stdout",
     "output_type": "stream",
     "text": [
      "\n",
      "LogisticRegression with L1\n",
      "Train accuracy = 0.9090909090909091\n",
      "Train precision = 1.0\n",
      "Train recall = 0.8181818181818182\n",
      "Testing accuracy = 0.678380706287683\n",
      "Testing precision = 0.8827448691761501\n",
      "Testing recall = 0.7238683948155533\n",
      "Confusion Matrix:\n",
      " [[ 1539  2411]\n",
      " [ 6924 18151]]\n",
      "\n",
      "LogisticRegression with L2\n",
      "Train accuracy = 0.8636363636363636\n",
      "Train precision = 0.8333333333333334\n",
      "Train recall = 0.9090909090909091\n",
      "Testing accuracy = 0.7272006890611542\n",
      "Testing precision = 0.8788922750761892\n",
      "Testing recall = 0.79357926221336\n",
      "Confusion Matrix:\n",
      " [[ 1208  2742]\n",
      " [ 5176 19899]]\n"
     ]
    }
   ],
   "source": [
    "df = pd.read_json('order_cancellation_data.json')\n",
    "\n",
    "df.sort_values(by=['order_create_time']) #like time series\n",
    "df.drop(['order_create_time'], axis = 1, inplace=True)\n",
    "\n",
    "df.loc[df['payment_type'].isna(), 'payment_type'] = 'Other' # impute missing values by frequance\n",
    "\n",
    "#encode the data\n",
    "label_encoder = LabelEncoder()\n",
    "df['order_status'] = label_encoder.fit_transform(df['order_status'])\n",
    "df['payment_type'] = label_encoder.fit_transform(df['payment_type'])\n",
    "\n",
    "train, test = train_test_split(df, test_size=0.1, shuffle = False) #like time-series\n",
    "\n",
    "train = train.loc[(train['cost(USD)']) > 0]\n",
    "train = train.loc[(train['total_order_items']) > 0 & (train['tot_unique_items'] > 0)]\n",
    "\n",
    "q = train[\"cost(USD)\"].quantile(0.95)\n",
    "train = train.loc[train[\"cost(USD)\"] <= q]\n",
    "#checked if tot_unique_items > total_order_items -> it's none\n",
    "q = train[\"total_order_items\"].quantile(0.95)\n",
    "train = train.loc[train[\"total_order_items\"] <= q] #remove outliers and from unique\n",
    "\n",
    "q = train[\"estimated_delivery_time\"].quantile(0.95)\n",
    "train = train.loc[train[\"estimated_delivery_time\"] <= q]\n",
    "q = train[\"vendor_client_distance\"].quantile(0.95)\n",
    "train = train.loc[train[\"vendor_client_distance\"] <= q]\n",
    "q = train[\"predicted_order_preparation_time\"].quantile(0.95)\n",
    "train = train.loc[train[\"predicted_order_preparation_time\"] <= q]\n",
    "\n",
    "columns_to_impute = ['cost(USD)', 'estimated_delivery_time', 'vendor_client_distance', 'predicted_order_preparation_time']\n",
    "for column in columns_to_impute:\n",
    "    mean_col = train.groupby('vendor_id')[column].transform('mean') #calculate mean for each vendor\n",
    "    train[column].fillna(mean_col, inplace=True)\n",
    "    train[column].fillna(mean_col.mean(), inplace=True)\n",
    "    test[column].fillna(mean_col, inplace=True)\n",
    "    test[column].fillna(mean_col.mean(), inplace=True)\n",
    "\n",
    "y_train = train['order_status']\n",
    "X_train = train.drop(['order_status'], axis = 1)\n",
    "y_test = test['order_status']\n",
    "X_test = test.drop(['order_status'], axis = 1)\n",
    "\n",
    "X_train.drop(['tot_unique_items'], axis = 1, inplace=True)\n",
    "X_test.drop(['tot_unique_items'], axis = 1, inplace=True)\n",
    "X_train.drop(['estimated_delivery_time'], axis = 1, inplace=True)\n",
    "X_test.drop(['estimated_delivery_time'], axis = 1, inplace=True)\n",
    "\n",
    "columns_to_scale = [name for name in X_train.columns if name != 'payment_type']\n",
    "\n",
    "scaler = StandardScaler()\n",
    "scaler.fit(X_train[columns_to_scale])\n",
    "X_train[columns_to_scale] = scaler.transform(X_train[columns_to_scale])\n",
    "X_test[columns_to_scale] = scaler.transform(X_test[columns_to_scale])\n",
    "\n",
    "#balance\n",
    "under_sampl = RandomUnderSampler(random_state=0)\n",
    "X_train, y_train = under_sampl.fit_resample(X_train, y_train)\n",
    "\n",
    "# Logistic Regression with L1 regularization\n",
    "l1_logreg = LogisticRegression(penalty='l1', solver='liblinear', C=1.0)\n",
    "l1_logreg.fit(X_train, y_train)\n",
    "print(\"\\nLogisticRegression with L1\")\n",
    "y_pred_train = l1_logreg.predict(X_train)\n",
    "y_pred_test = l1_logreg.predict(X_test)\n",
    "confusion_mat = confusion_matrix(y_test, y_pred_test)\n",
    "print('Train accuracy = {}'.format(metrics.accuracy_score(y_train, y_pred_train)))\n",
    "print('Train precision = {}'.format(metrics.precision_score(y_train, y_pred_train)))\n",
    "print('Train recall = {}'.format(metrics.recall_score(y_train, y_pred_train)))\n",
    "print('Testing accuracy = {}'.format(metrics.accuracy_score(y_test, y_pred_test)))\n",
    "print('Testing precision = {}'.format(metrics.precision_score(y_test, y_pred_test)))\n",
    "print('Testing recall = {}'.format(metrics.recall_score(y_test, y_pred_test)))\n",
    "print(\"Confusion Matrix:\\n\", confusion_mat)\n",
    "\n",
    "# Logistic Regression with L2 regularization\n",
    "l2_logreg = LogisticRegression(penalty='l2', solver='lbfgs', C=1.0)\n",
    "l2_logreg.fit(X_train, y_train)\n",
    "\n",
    "print(\"\\nLogisticRegression with L2\")\n",
    "y_pred_train = l2_logreg.predict(X_train)\n",
    "y_pred_test = l2_logreg.predict(X_test)\n",
    "confusion_mat = confusion_matrix(y_test, y_pred_test)\n",
    "print('Train accuracy = {}'.format(metrics.accuracy_score(y_train, y_pred_train)))\n",
    "print('Train precision = {}'.format(metrics.precision_score(y_train, y_pred_train)))\n",
    "print('Train recall = {}'.format(metrics.recall_score(y_train, y_pred_train)))\n",
    "print('Testing accuracy = {}'.format(metrics.accuracy_score(y_test, y_pred_test)))\n",
    "print('Testing precision = {}'.format(metrics.precision_score(y_test, y_pred_test)))\n",
    "print('Testing recall = {}'.format(metrics.recall_score(y_test, y_pred_test)))\n",
    "print(\"Confusion Matrix:\\n\", confusion_mat)"
   ]
  },
  {
   "cell_type": "markdown",
   "id": "45f83947-8932-4e2e-9e66-1406095ba13a",
   "metadata": {},
   "source": [
    "### Train models and evaluate with remove outliers and balance UperSampling+OverSampling"
   ]
  },
  {
   "cell_type": "code",
   "execution_count": 79,
   "id": "a3213da0-298b-43df-8e89-774b7548a059",
   "metadata": {},
   "outputs": [
    {
     "name": "stdout",
     "output_type": "stream",
     "text": [
      "\n",
      "LogisticRegression with L1\n",
      "Train accuracy = 0.6131343099598535\n",
      "Train precision = 0.61274048076799\n",
      "Train recall = 0.5488704858442316\n",
      "Testing accuracy = 0.5811197243755384\n",
      "Testing precision = 0.8888086207934501\n",
      "Testing recall = 0.5887936191425723\n",
      "Confusion Matrix:\n",
      " [[ 2103  1847]\n",
      " [10311 14764]]\n",
      "\n",
      "LogisticRegression with L2\n",
      "Train accuracy = 0.6131343099598535\n",
      "Train precision = 0.612741935483871\n",
      "Train recall = 0.5488647068002012\n",
      "Testing accuracy = 0.5810852713178295\n",
      "Testing precision = 0.8888019265502709\n",
      "Testing recall = 0.588753738783649\n",
      "Confusion Matrix:\n",
      " [[ 2103  1847]\n",
      " [10312 14763]]\n"
     ]
    }
   ],
   "source": [
    "df = pd.read_json('order_cancellation_data.json')\n",
    "\n",
    "df.sort_values(by=['order_create_time'])\n",
    "df.drop(['order_create_time'], axis = 1, inplace=True)\n",
    "\n",
    "df.loc[df['payment_type'].isna(), 'payment_type'] = 'Other'\n",
    "\n",
    "label_encoder = LabelEncoder()\n",
    "df['order_status'] = label_encoder.fit_transform(df['order_status'])\n",
    "df['payment_type'] = label_encoder.fit_transform(df['payment_type'])\n",
    "train, test = train_test_split(df, test_size=0.1, shuffle = False)\n",
    "\n",
    "# remove outliers from train\n",
    "train = train.loc[(train['cost(USD)']) > 0]\n",
    "train = train.loc[(train['total_order_items']) > 0 & (train['tot_unique_items'] > 0)]\n",
    "\n",
    "q = train[\"cost(USD)\"].quantile(0.95)\n",
    "train = train.loc[train[\"cost(USD)\"] <= q]\n",
    "#check if tot_unique_items > total_order_items -> it's none\n",
    "q = train[\"total_order_items\"].quantile(0.95)\n",
    "train = train.loc[train[\"total_order_items\"] <= q] #remove outliers and from unique\n",
    "\n",
    "q = train[\"estimated_delivery_time\"].quantile(0.95)\n",
    "train = train.loc[train[\"estimated_delivery_time\"] <= q]\n",
    "q = train[\"vendor_client_distance\"].quantile(0.95)\n",
    "train = train.loc[train[\"vendor_client_distance\"] <= q]\n",
    "\n",
    "#impute\n",
    "columns_to_impute = ['cost(USD)', 'estimated_delivery_time', 'vendor_client_distance', 'predicted_order_preparation_time']\n",
    "for column in columns_to_impute:\n",
    "    mean_col = train.groupby('vendor_id')[column].transform('mean')\n",
    "    train[column].fillna(mean_col, inplace=True)\n",
    "    train[column].fillna(mean_col.mean(), inplace=True)\n",
    "    test[column].fillna(mean_col, inplace=True)\n",
    "    test[column].fillna(mean_col.mean(), inplace=True)\n",
    "    \n",
    "\n",
    "train.drop(['tot_unique_items'], axis = 1, inplace=True)\n",
    "test.drop(['tot_unique_items'], axis = 1, inplace=True)\n",
    "train.drop(['estimated_delivery_time'], axis = 1, inplace=True)\n",
    "test.drop(['estimated_delivery_time'], axis = 1, inplace=True)\n",
    "\n",
    "y_train = train['order_status']\n",
    "X_train = train.drop(['order_status'], axis = 1)\n",
    "y_test = test['order_status']\n",
    "X_test = test.drop(['order_status'], axis = 1)\n",
    "\n",
    "#scaling\n",
    "columns_to_scale = [name for name in X_train.columns if name != 'payment_type']\n",
    "\n",
    "# Create StandardScaler instance\n",
    "scaler = StandardScaler()\n",
    "scaler.fit(X_train[columns_to_scale])\n",
    "X_train[columns_to_scale] = scaler.transform(X_train[columns_to_scale])\n",
    "X_test[columns_to_scale] = scaler.transform(X_test[columns_to_scale])\n",
    "\n",
    "#balance\n",
    "smote_enn = SMOTEENN(random_state=0)\n",
    "X_train, y_train = smote_enn.fit_resample(X_train, y_train)\n",
    "\n",
    "# Logistic Regression with L1 regularization\n",
    "l1_logreg = LogisticRegression(penalty='l1', solver='liblinear', C=1.0)\n",
    "l1_logreg.fit(X_train, y_train)\n",
    "print(\"\\nLogisticRegression with L1\")\n",
    "y_pred_train = l1_logreg.predict(X_train)\n",
    "y_pred_test = l1_logreg.predict(X_test)\n",
    "confusion_mat = confusion_matrix(y_test, y_pred_test)\n",
    "print('Train accuracy = {}'.format(metrics.accuracy_score(y_train, y_pred_train)))\n",
    "print('Train precision = {}'.format(metrics.precision_score(y_train, y_pred_train)))\n",
    "print('Train recall = {}'.format(metrics.recall_score(y_train, y_pred_train)))\n",
    "print('Testing accuracy = {}'.format(metrics.accuracy_score(y_test, y_pred_test)))\n",
    "print('Testing precision = {}'.format(metrics.precision_score(y_test, y_pred_test)))\n",
    "print('Testing recall = {}'.format(metrics.recall_score(y_test, y_pred_test)))\n",
    "print(\"Confusion Matrix:\\n\", confusion_mat)\n",
    "\n",
    "# Logistic Regression with L2 regularization\n",
    "l2_logreg = LogisticRegression(penalty='l2', solver='lbfgs', C=1.0)\n",
    "l2_logreg.fit(X_train, y_train)\n",
    "\n",
    "print(\"\\nLogisticRegression with L2\")\n",
    "y_pred_train = l2_logreg.predict(X_train)\n",
    "y_pred_test = l2_logreg.predict(X_test)\n",
    "confusion_mat = confusion_matrix(y_test, y_pred_test)\n",
    "print('Train accuracy = {}'.format(metrics.accuracy_score(y_train, y_pred_train)))\n",
    "print('Train precision = {}'.format(metrics.precision_score(y_train, y_pred_train)))\n",
    "print('Train recall = {}'.format(metrics.recall_score(y_train, y_pred_train)))\n",
    "print('Testing accuracy = {}'.format(metrics.accuracy_score(y_test, y_pred_test)))\n",
    "print('Testing precision = {}'.format(metrics.precision_score(y_test, y_pred_test)))\n",
    "print('Testing recall = {}'.format(metrics.recall_score(y_test, y_pred_test)))\n",
    "print(\"Confusion Matrix:\\n\", confusion_mat)"
   ]
  }
 ],
 "metadata": {
  "kernelspec": {
   "display_name": "Python 3 (ipykernel)",
   "language": "python",
   "name": "python3"
  },
  "language_info": {
   "codemirror_mode": {
    "name": "ipython",
    "version": 3
   },
   "file_extension": ".py",
   "mimetype": "text/x-python",
   "name": "python",
   "nbconvert_exporter": "python",
   "pygments_lexer": "ipython3",
   "version": "3.10.9"
  }
 },
 "nbformat": 4,
 "nbformat_minor": 5
}
