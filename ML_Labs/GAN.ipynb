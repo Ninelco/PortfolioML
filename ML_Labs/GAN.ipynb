{
  "nbformat": 4,
  "nbformat_minor": 0,
  "metadata": {
    "colab": {
      "provenance": [],
      "gpuType": "T4"
    },
    "kernelspec": {
      "name": "python3",
      "display_name": "Python 3"
    },
    "language_info": {
      "name": "python"
    },
    "accelerator": "GPU"
  },
  "cells": [
    {
      "cell_type": "markdown",
      "source": [
        "# Lab 2 : Generative Models (Generative adversarial networks)\n",
        "```\n",
        "- [S24] Advanced Machine Learning, Innopolis University\n",
        "- Teaching Assistant: Gcinizwe Dlamini\n",
        "```\n",
        "<hr>\n",
        "\n",
        "\n",
        "```\n",
        "Lab Plan\n",
        "1. Conditional Generative adversarial networks\n",
        "2. Bidirectional Generative Adversarial Network\n",
        "3. Task 2\n",
        "```\n",
        "\n",
        "<hr>"
      ],
      "metadata": {
        "id": "xqXoek6foX8O"
      }
    },
    {
      "cell_type": "markdown",
      "source": [
        "## 1. Conditional Generative adversarial network\n",
        "\n",
        "\n",
        "The Conditional Generative Adversarial Network (cGAN) is a model used in deep learning, a derivative of machine learning. It enables more precise generation and discrimination of data. The achitecture is similar to the one of vanilla GAN.\n",
        "\n",
        "\n",
        "The condition for data generation is a link to the label of the data.\n",
        "\n",
        "![Conditional GAN](https://www.researchgate.net/profile/Gerasimos-Spanakis/publication/330474693/figure/fig1/AS:956606955139072@1605084279074/GAN-conditional-GAN-CGAN-and-auxiliary-classifier-GAN-ACGAN-architectures-where-x_Q320.jpg)"
      ],
      "metadata": {
        "id": "Nnlrda5BqVSa"
      }
    },
    {
      "cell_type": "markdown",
      "source": [
        "### Imports\n",
        "\n",
        "`!pip install tensorboardX`"
      ],
      "metadata": {
        "id": "q4-1Z4q0sGU9"
      }
    },
    {
      "cell_type": "code",
      "source": [
        "!pip install tensorboardX"
      ],
      "metadata": {
        "id": "n475ERw60ZFi",
        "colab": {
          "base_uri": "https://localhost:8080/"
        },
        "outputId": "d0737c30-2a88-431d-b13b-1798e5f724f2"
      },
      "execution_count": null,
      "outputs": [
        {
          "output_type": "stream",
          "name": "stdout",
          "text": [
            "Collecting tensorboardX\n",
            "  Downloading tensorboardX-2.6.2.2-py2.py3-none-any.whl (101 kB)\n",
            "\u001b[?25l     \u001b[90m━━━━━━━━━━━━━━━━━━━━━━━━━━━━━━━━━━━━━━━━\u001b[0m \u001b[32m0.0/101.7 kB\u001b[0m \u001b[31m?\u001b[0m eta \u001b[36m-:--:--\u001b[0m\r\u001b[2K     \u001b[90m━━━━━━━━━━━━━━━━━━━━━━━━━━━━━━━━━━━━━━━━\u001b[0m \u001b[32m101.7/101.7 kB\u001b[0m \u001b[31m3.6 MB/s\u001b[0m eta \u001b[36m0:00:00\u001b[0m\n",
            "\u001b[?25hRequirement already satisfied: numpy in /usr/local/lib/python3.10/dist-packages (from tensorboardX) (1.23.5)\n",
            "Requirement already satisfied: packaging in /usr/local/lib/python3.10/dist-packages (from tensorboardX) (23.2)\n",
            "Requirement already satisfied: protobuf>=3.20 in /usr/local/lib/python3.10/dist-packages (from tensorboardX) (3.20.3)\n",
            "Installing collected packages: tensorboardX\n",
            "Successfully installed tensorboardX-2.6.2.2\n"
          ]
        }
      ]
    },
    {
      "cell_type": "code",
      "source": [
        "%matplotlib inline\n",
        "import matplotlib.pyplot as plt\n",
        "import numpy as np\n",
        "\n",
        "import torch\n",
        "import torch.nn as nn\n",
        "from torchvision.datasets import ImageFolder, MNIST\n",
        "from torchvision import transforms\n",
        "from torch import autograd\n",
        "from torchvision.utils import make_grid\n",
        "import torchvision\n",
        "from torch.utils.data import DataLoader\n",
        "\n",
        "\n",
        "device = torch.device(\"cuda\" if torch.cuda.is_available() else \"cpu\")\n",
        "device"
      ],
      "metadata": {
        "id": "HuMmBtBq0zRd",
        "colab": {
          "base_uri": "https://localhost:8080/"
        },
        "outputId": "1b94c572-5f06-463e-b619-b29848ad8e90"
      },
      "execution_count": null,
      "outputs": [
        {
          "output_type": "execute_result",
          "data": {
            "text/plain": [
              "device(type='cpu')"
            ]
          },
          "metadata": {},
          "execution_count": 3
        }
      ]
    },
    {
      "cell_type": "markdown",
      "source": [
        "### 1.1 Dataset preparation\n",
        "\n",
        "In this task we will use MNIST dataset"
      ],
      "metadata": {
        "id": "AJswv1OYsbB3"
      }
    },
    {
      "cell_type": "code",
      "source": [
        "batch_size = 32\n",
        "transform = transforms.Compose([\n",
        "        transforms.ToTensor(),\n",
        "        transforms.Normalize([0.5], [0.5])\n",
        "])\n",
        "\n",
        "\n",
        "\n",
        "def load_dataset(batch_size = 128, root = './data', transform=transforms.ToTensor()):\n",
        "    train_dataset = torchvision.datasets.MNIST(root = root + '/MNIST', train=True,\n",
        "                                               transform=transform, download=True)\n",
        "\n",
        "    test_dataset = torchvision.datasets.MNIST(root = root + '/MNIST', train=False,\n",
        "                                              transform=transform)\n",
        "\n",
        "    train_loader = DataLoader(dataset=train_dataset, batch_size=batch_size, shuffle=True)\n",
        "    test_loader = DataLoader(dataset=test_dataset, batch_size=batch_size, shuffle=False)\n",
        "    return train_loader, test_loader\n",
        "\n",
        "train_loader, _ = load_dataset(batch_size=batch_size, transform=transform)"
      ],
      "metadata": {
        "id": "UBkjaMI0zxkz",
        "colab": {
          "base_uri": "https://localhost:8080/"
        },
        "outputId": "7a7bb57d-089b-4be0-ca7b-a54292f3ba78"
      },
      "execution_count": null,
      "outputs": [
        {
          "output_type": "stream",
          "name": "stdout",
          "text": [
            "Downloading http://yann.lecun.com/exdb/mnist/train-images-idx3-ubyte.gz\n",
            "Downloading http://yann.lecun.com/exdb/mnist/train-images-idx3-ubyte.gz to ./data/MNIST/MNIST/raw/train-images-idx3-ubyte.gz\n"
          ]
        },
        {
          "output_type": "stream",
          "name": "stderr",
          "text": [
            "100%|██████████| 9912422/9912422 [00:00<00:00, 90862564.92it/s]\n"
          ]
        },
        {
          "output_type": "stream",
          "name": "stdout",
          "text": [
            "Extracting ./data/MNIST/MNIST/raw/train-images-idx3-ubyte.gz to ./data/MNIST/MNIST/raw\n",
            "\n",
            "Downloading http://yann.lecun.com/exdb/mnist/train-labels-idx1-ubyte.gz\n",
            "Downloading http://yann.lecun.com/exdb/mnist/train-labels-idx1-ubyte.gz to ./data/MNIST/MNIST/raw/train-labels-idx1-ubyte.gz\n"
          ]
        },
        {
          "output_type": "stream",
          "name": "stderr",
          "text": [
            "100%|██████████| 28881/28881 [00:00<00:00, 70922537.37it/s]\n"
          ]
        },
        {
          "output_type": "stream",
          "name": "stdout",
          "text": [
            "Extracting ./data/MNIST/MNIST/raw/train-labels-idx1-ubyte.gz to ./data/MNIST/MNIST/raw\n",
            "\n",
            "Downloading http://yann.lecun.com/exdb/mnist/t10k-images-idx3-ubyte.gz\n",
            "Downloading http://yann.lecun.com/exdb/mnist/t10k-images-idx3-ubyte.gz to ./data/MNIST/MNIST/raw/t10k-images-idx3-ubyte.gz\n"
          ]
        },
        {
          "output_type": "stream",
          "name": "stderr",
          "text": [
            "100%|██████████| 1648877/1648877 [00:00<00:00, 23301756.41it/s]\n"
          ]
        },
        {
          "output_type": "stream",
          "name": "stdout",
          "text": [
            "Extracting ./data/MNIST/MNIST/raw/t10k-images-idx3-ubyte.gz to ./data/MNIST/MNIST/raw\n",
            "\n",
            "Downloading http://yann.lecun.com/exdb/mnist/t10k-labels-idx1-ubyte.gz\n",
            "Downloading http://yann.lecun.com/exdb/mnist/t10k-labels-idx1-ubyte.gz to ./data/MNIST/MNIST/raw/t10k-labels-idx1-ubyte.gz\n"
          ]
        },
        {
          "output_type": "stream",
          "name": "stderr",
          "text": [
            "100%|██████████| 4542/4542 [00:00<00:00, 4272376.94it/s]"
          ]
        },
        {
          "output_type": "stream",
          "name": "stdout",
          "text": [
            "Extracting ./data/MNIST/MNIST/raw/t10k-labels-idx1-ubyte.gz to ./data/MNIST/MNIST/raw\n",
            "\n"
          ]
        },
        {
          "output_type": "stream",
          "name": "stderr",
          "text": [
            "\n"
          ]
        }
      ]
    },
    {
      "cell_type": "markdown",
      "source": [
        "### 1.2 Define Discriminator model"
      ],
      "metadata": {
        "id": "l-JX3sESsmI3"
      }
    },
    {
      "cell_type": "code",
      "source": [
        "class Discriminator(nn.Module):\n",
        "  def __init__(self):\n",
        "    super().__init__()\n",
        "\n",
        "    self.label_emb = nn.Embedding(10, 10)\n",
        "\n",
        "    self.model = nn.Sequential(\n",
        "        nn.Linear(794, 1024),\n",
        "        nn.LeakyReLU(0.2, inplace=True),\n",
        "        nn.Dropout(0.3),\n",
        "        nn.Linear(1024, 512),\n",
        "        nn.LeakyReLU(0.2, inplace=True),\n",
        "        nn.Dropout(0.3),\n",
        "        nn.Linear(512, 256),\n",
        "        nn.LeakyReLU(0.2, inplace=True),\n",
        "        nn.Dropout(0.3),\n",
        "        nn.Linear(256, 1),\n",
        "        nn.Sigmoid()\n",
        "    )\n",
        "\n",
        "  def forward(self, x, labels):\n",
        "    x = x.view(x.size(0), 784)\n",
        "    c = self.label_emb(labels)\n",
        "    x = torch.cat([x, c], 1)\n",
        "    out = self.model(x)\n",
        "    return out.squeeze()"
      ],
      "metadata": {
        "id": "3Mm02h1A1EeE"
      },
      "execution_count": null,
      "outputs": []
    },
    {
      "cell_type": "markdown",
      "source": [
        "### 1.3 Define Generator model"
      ],
      "metadata": {
        "id": "gXbUak2MsuE9"
      }
    },
    {
      "cell_type": "code",
      "source": [
        "class Generator(nn.Module):\n",
        "    def __init__(self):\n",
        "        super().__init__()\n",
        "\n",
        "        self.label_emb = nn.Embedding(10, 10)\n",
        "\n",
        "        self.model = nn.Sequential(\n",
        "            nn.Linear(110, 256),\n",
        "            nn.LeakyReLU(0.2, inplace=True),\n",
        "            nn.Linear(256, 512),\n",
        "            nn.LeakyReLU(0.2, inplace=True),\n",
        "            nn.Linear(512, 1024),\n",
        "            nn.LeakyReLU(0.2, inplace=True),\n",
        "            nn.Linear(1024, 784),\n",
        "            nn.Tanh()\n",
        "        )\n",
        "\n",
        "    def forward(self, z, labels):\n",
        "        z = z.view(z.size(0), 100)\n",
        "        c = self.label_emb(labels)\n",
        "        x = torch.cat([z, c], 1)\n",
        "        out = self.model(x)\n",
        "        return out.view(x.size(0), 28, 28)"
      ],
      "metadata": {
        "id": "1DwfBnG11Mwg"
      },
      "execution_count": null,
      "outputs": []
    },
    {
      "cell_type": "markdown",
      "source": [
        "### 1.4 Define Conditional GAN"
      ],
      "metadata": {
        "id": "Cfd2PhSFtAbj"
      }
    },
    {
      "cell_type": "code",
      "source": [
        "generator = Generator().to(device)\n",
        "discriminator = Discriminator().to(device)"
      ],
      "metadata": {
        "id": "DAPqOjb_1PzH"
      },
      "execution_count": null,
      "outputs": []
    },
    {
      "cell_type": "markdown",
      "source": [
        "### 1.5 Define Training params"
      ],
      "metadata": {
        "id": "N3atg_a5tFcJ"
      }
    },
    {
      "cell_type": "code",
      "source": [
        "criterion = nn.BCELoss()\n",
        "d_optimizer = torch.optim.Adam(discriminator.parameters(), lr=1e-4)\n",
        "g_optimizer = torch.optim.Adam(generator.parameters(), lr=1e-4)\n",
        "\n",
        "writer = SummaryWriter()"
      ],
      "metadata": {
        "id": "rJLE2Wdn1S-5"
      },
      "execution_count": null,
      "outputs": []
    },
    {
      "cell_type": "markdown",
      "source": [
        "### 1.6 Generator Training procedure"
      ],
      "metadata": {
        "id": "wDSby137uJNh"
      }
    },
    {
      "cell_type": "code",
      "source": [
        "def generator_train_step(batch_size, discriminator, generator, g_optimizer, criterion, device='cpu'):\n",
        "\n",
        "  g_optimizer.zero_grad()\n",
        "  z = torch.randn(batch_size, 100).to(device)\n",
        "  fake_labels = torch.LongTensor(np.random.randint(0, 10, batch_size)).to(device)\n",
        "  fake_images = generator(z, fake_labels)\n",
        "  validity = discriminator(fake_images, fake_labels)\n",
        "  g_loss = criterion(validity, torch.ones(batch_size).to(device)) #меняем нули на единицы для бинарной классификации\n",
        "  g_loss.backward()\n",
        "  g_optimizer.step()\n",
        "  return g_loss.item()"
      ],
      "metadata": {
        "id": "_QXNYjy31Zks"
      },
      "execution_count": null,
      "outputs": []
    },
    {
      "cell_type": "markdown",
      "source": [
        "### 1.7 Discriminator Training procedure"
      ],
      "metadata": {
        "id": "0NPJzWnQuQYG"
      }
    },
    {
      "cell_type": "code",
      "source": [
        "def discriminator_train_step(batch_size, discriminator, generator, d_optimizer, criterion, real_images, labels, device='cpu'):\n",
        "    d_optimizer.zero_grad()\n",
        "\n",
        "    # train with real images\n",
        "    real_validity = discriminator(real_images, labels)\n",
        "    real_loss = criterion(real_validity, torch.ones(batch_size).to(device))\n",
        "\n",
        "    # train with fake images\n",
        "    z = torch.randn(batch_size, 100).to(device)\n",
        "    fake_labels = torch.LongTensor(np.random.randint(0, 10, batch_size)).to(device)\n",
        "    fake_images = generator(z, fake_labels)\n",
        "    fake_validity = discriminator(fake_images, fake_labels)\n",
        "    fake_loss = criterion(fake_validity, torch.zeros(batch_size).to(device))\n",
        "\n",
        "    d_loss = real_loss + fake_loss\n",
        "    d_loss.backward()\n",
        "    d_optimizer.step()\n",
        "    return d_loss.item()"
      ],
      "metadata": {
        "id": "EiJL-FFI1dSs"
      },
      "execution_count": null,
      "outputs": []
    },
    {
      "cell_type": "markdown",
      "source": [
        "### 1.8 Conditional GAN training loop"
      ],
      "metadata": {
        "id": "ni6YAZKRuW4O"
      }
    },
    {
      "cell_type": "code",
      "source": [
        "num_epochs = 10\n",
        "n_critic = 5\n",
        "display_step = 10\n",
        "for epoch in range(num_epochs):\n",
        "    print('Epoch {} ...'.format(epoch), end=' ')\n",
        "    for i, (images, labels) in enumerate(train_loader):\n",
        "\n",
        "        step = epoch * len(train_loader) + i + 1\n",
        "        real_images = images.to(device)\n",
        "        labels = labels.to(device)\n",
        "        generator.train()\n",
        "\n",
        "        d_loss = 0\n",
        "        for _ in range(n_critic):\n",
        "            d_loss = discriminator_train_step(len(real_images), discriminator,\n",
        "                                              generator, d_optimizer, criterion,\n",
        "                                              real_images, labels, device=device)\n",
        "\n",
        "\n",
        "        g_loss = generator_train_step(batch_size, discriminator, generator, g_optimizer, criterion, device=device)\n",
        "\n",
        "        writer.add_scalars('scalars', {'g_loss': g_loss, 'd_loss': (d_loss / n_critic)}, step)\n",
        "\n",
        "        if step % display_step == 0:\n",
        "            generator.eval()\n",
        "            z = torch.randn(9, 100).to(device)\n",
        "            labels = torch.LongTensor(np.arange(9)).to(device)\n",
        "            sample_images = generator(z, labels).unsqueeze(1)\n",
        "            grid = make_grid(sample_images, nrow=3, normalize=True)\n",
        "            writer.add_image('sample_image', grid, step)\n",
        "    print('Done!')"
      ],
      "metadata": {
        "id": "JEMaBlXr1ic1",
        "colab": {
          "base_uri": "https://localhost:8080/"
        },
        "outputId": "d9af5cb8-7254-4c04-8627-a14781a837c8"
      },
      "execution_count": null,
      "outputs": [
        {
          "output_type": "stream",
          "name": "stdout",
          "text": [
            "Epoch 0 ... Done!\n",
            "Epoch 1 ... Done!\n",
            "Epoch 2 ... Done!\n",
            "Epoch 3 ... Done!\n",
            "Epoch 4 ... Done!\n",
            "Epoch 5 ... Done!\n",
            "Epoch 6 ... Done!\n",
            "Epoch 7 ... Done!\n",
            "Epoch 8 ... Done!\n",
            "Epoch 9 ... Done!\n"
          ]
        }
      ]
    },
    {
      "cell_type": "markdown",
      "source": [
        "### 1.9 Generate Data"
      ],
      "metadata": {
        "id": "fR7Cavruu7Qs"
      }
    },
    {
      "cell_type": "code",
      "source": [
        "def generate_digit(generator, digit):\n",
        "    z = torch.randn(1, 100).to(device)\n",
        "    label = torch.LongTensor([digit]).to(device)\n",
        "    img = generator(z, label).data.cpu()\n",
        "    img = 0.5 * img + 0.5\n",
        "    return transforms.ToPILImage()(img)"
      ],
      "metadata": {
        "id": "-fTIWhWDIZpS"
      },
      "execution_count": null,
      "outputs": []
    },
    {
      "cell_type": "code",
      "source": [
        "generator.eval()\n",
        "generate_digit(generator, 9)"
      ],
      "metadata": {
        "id": "1VKZyz-Az0yj",
        "colab": {
          "base_uri": "https://localhost:8080/",
          "height": 45
        },
        "outputId": "ceed7e02-b10c-4c48-bd16-84060e8c793f"
      },
      "execution_count": null,
      "outputs": [
        {
          "output_type": "execute_result",
          "data": {
            "text/plain": [
              "<PIL.Image.Image image mode=L size=28x28>"
            ],
            "image/png": "[encoded data removed]"
          },
          "metadata": {},
          "execution_count": 15
        }
      ]
    },
    {
      "cell_type": "markdown",
      "source": [
        "## 2. Structure of a Bidirectional Generative Adversarial Network (BiGAN)\n",
        "A BiGAN, or Bidirectional GAN, is a type of generative adversarial network where the generator not only maps latent samples to generated data, but also has an inverse mapping from data to the latent representation.\n",
        "![](https://ar5iv.labs.arxiv.org/html/1801.04271/assets/bigan.png)"
      ],
      "metadata": {
        "id": "eo1zeMgnupe3"
      }
    },
    {
      "cell_type": "code",
      "source": [
        "import torch\n",
        "import torch.nn as nn\n",
        "import torch.nn.functional as F\n",
        "import torch.optim as optim"
      ],
      "metadata": {
        "id": "Qv-heWe4qX18"
      },
      "execution_count": null,
      "outputs": []
    },
    {
      "cell_type": "markdown",
      "source": [
        "### 2.1 Load Data"
      ],
      "metadata": {
        "id": "3HcUi0Nb190x"
      }
    },
    {
      "cell_type": "code",
      "source": [
        "batch_size = 128\n",
        "mnist_train, mnist_test = load_dataset(batch_size=batch_size)"
      ],
      "metadata": {
        "id": "x8ha0RSC9kfj"
      },
      "execution_count": null,
      "outputs": []
    },
    {
      "cell_type": "markdown",
      "source": [
        "### 2.2 Define Generator"
      ],
      "metadata": {
        "id": "QcTI4Hm72YXY"
      }
    },
    {
      "cell_type": "code",
      "source": [
        "class Generator(nn.Module):\n",
        "    def __init__(self):\n",
        "        super(Generator, self).__init__()\n",
        "        self.layers = nn.Sequential(\n",
        "            nn.Linear(50, 1024),\n",
        "            nn.ReLU(),\n",
        "            nn.Linear(1024, 1024),\n",
        "            nn.BatchNorm1d(1024),\n",
        "            nn.ReLU(),\n",
        "            nn.Linear(1024, 28 * 28),\n",
        "            nn.Sigmoid()\n",
        "        )\n",
        "\n",
        "    def forward(self, z):\n",
        "        return self.layers(z)"
      ],
      "metadata": {
        "id": "7dQYkT_09ugA"
      },
      "execution_count": null,
      "outputs": []
    },
    {
      "cell_type": "markdown",
      "source": [
        "### 2.3 Define Discriminator"
      ],
      "metadata": {
        "id": "45ZNAgll2jqE"
      }
    },
    {
      "cell_type": "code",
      "source": [
        "class Discriminator(nn.Module):\n",
        "    def __init__(self):\n",
        "        super(Discriminator, self).__init__()\n",
        "        self.layers = nn.Sequential(\n",
        "            nn.Linear(28 * 28 + 50, 1024),\n",
        "            nn.LeakyReLU(0.2),\n",
        "            nn.Linear(1024, 1024),\n",
        "            nn.BatchNorm1d(1024),\n",
        "            nn.LeakyReLU(0.2),\n",
        "            nn.Linear(1024,1, bias=False),\n",
        "            nn.Sigmoid()\n",
        "        )\n",
        "\n",
        "    def forward(self, X, z):\n",
        "        X_copy = X.clone().detach()\n",
        "        Xz = torch.cat([X_copy, z], dim=1)\n",
        "        return self.layers(Xz)"
      ],
      "metadata": {
        "id": "KZa_8zL09yN5"
      },
      "execution_count": null,
      "outputs": []
    },
    {
      "cell_type": "markdown",
      "source": [
        "### 2.4 Define Encoder"
      ],
      "metadata": {
        "id": "SyKmRtQn2dlp"
      }
    },
    {
      "cell_type": "code",
      "source": [
        "class Encoder(nn.Module):\n",
        "    def __init__(self):\n",
        "        super(Encoder, self).__init__()\n",
        "        self.layers = nn.Sequential(\n",
        "            nn.Linear(28 * 28, 1024),\n",
        "            nn.LeakyReLU(0.2),\n",
        "            nn.Linear(1024, 1024),\n",
        "            nn.BatchNorm1d(1024),\n",
        "            nn.LeakyReLU(0.2),\n",
        "            nn.Linear(1024, 50)\n",
        "        )\n",
        "\n",
        "    def forward(self, X):\n",
        "        return self.layers(X)\n"
      ],
      "metadata": {
        "id": "AZseAzle9rh8"
      },
      "execution_count": null,
      "outputs": []
    },
    {
      "cell_type": "markdown",
      "source": [
        "### 2.5 Define Loss function for discriminator and Encoder-Generator"
      ],
      "metadata": {
        "id": "Fgz7eABQ2u-m"
      }
    },
    {
      "cell_type": "code",
      "source": [
        "def D_loss(DG, DE, eps=1e-6):\n",
        "    loss = torch.log(DE + eps) + torch.log(1 - DG + eps)\n",
        "    return -torch.mean(loss)"
      ],
      "metadata": {
        "id": "Y-80qP4x92tI"
      },
      "execution_count": null,
      "outputs": []
    },
    {
      "cell_type": "code",
      "source": [
        "def EG_loss(DG, DE, eps=1e-6):\n",
        "    loss = torch.log(DG + eps) + torch.log(1 - DE + eps)\n",
        "    return -torch.mean(loss)"
      ],
      "metadata": {
        "id": "bViWciZo9_uz"
      },
      "execution_count": null,
      "outputs": []
    },
    {
      "cell_type": "code",
      "source": [],
      "metadata": {
        "id": "VcmUYf33I0di"
      },
      "execution_count": null,
      "outputs": []
    },
    {
      "cell_type": "markdown",
      "source": [
        "### 2.6 Define BiGAN and Training Params"
      ],
      "metadata": {
        "id": "LzhwHxH63Bj7"
      }
    },
    {
      "cell_type": "code",
      "source": [
        "n_epochs = 400\n",
        "l_rate = 2e-5\n",
        "\n",
        "E = Encoder().to(device)\n",
        "G = Generator().to(device)\n",
        "D = Discriminator().to(device)\n",
        "\n",
        "#optimizers with weight decay\n",
        "optimizer_EG = torch.optim.Adam(list(E.parameters()) + list(G.parameters()),\n",
        "                                lr=l_rate, betas=(0.5, 0.999), weight_decay=1e-5)\n",
        "optimizer_D = torch.optim.Adam(D.parameters(),\n",
        "                               lr=l_rate, betas=(0.5, 0.999), weight_decay=1e-5)"
      ],
      "metadata": {
        "id": "nde4eOHf-HAV"
      },
      "execution_count": null,
      "outputs": []
    },
    {
      "cell_type": "markdown",
      "source": [
        "## 3. Task 2\n",
        "```\n",
        "Task 2.1\n",
        "- Train defined BiGAN above\n",
        "- In the training procedure add tensorboard and every 10 epochs visualize 10\n",
        "  - generated images\n",
        "  - reconstructed images\n",
        "```\n",
        "<hr>\n",
        "\n",
        "```\n",
        "Task 2.2\n",
        "- Implement and train a conditional BiGAN for CIFAR10 dataset\n",
        "```"
      ],
      "metadata": {
        "id": "pWQHnA4Iz5Am"
      }
    },
    {
      "cell_type": "code",
      "source": [
        "def generator_train_step(batch_size, discriminator, generator, g_optimizer, criterion, device='cpu'):\n",
        "\n",
        "  g_optimizer.zero_grad()\n",
        "  z = torch.randn(batch_size, 50).to(device)\n",
        "  validity = discriminator(fake_images, fake_labels)\n",
        "  g_loss = criterion(validity, torch.ones(batch_size).to(device)) #меняем нули на единицы для бинарной классификации\n",
        "  g_loss.backward()\n",
        "  g_optimizer.step()\n",
        "  return g_loss.item()"
      ],
      "metadata": {
        "id": "RT3IIvrqa8sT"
      },
      "execution_count": null,
      "outputs": []
    },
    {
      "cell_type": "markdown",
      "source": [
        "## Resources\n",
        "\n",
        "* [Simple Explaination of BiGAN](https://youtu.be/rzpA0H-q_HY)\n",
        "* [Adversarial feature learning](https://arxiv.org/pdf/1605.09782v7.pdf) -- original BiGAN paper"
      ],
      "metadata": {
        "id": "VZsstGCzwb7a"
      }
    },
    {
      "cell_type": "code",
      "source": [
        "criterion = nn.BCELoss()"
      ],
      "metadata": {
        "id": "AnLWjEZbKBOo"
      },
      "execution_count": null,
      "outputs": []
    },
    {
      "cell_type": "code",
      "source": [
        "\n",
        "for epoch in range(n_epochs):\n",
        "    D_loss_acc = 0.\n",
        "    EG_loss_acc = 0.\n",
        "    E.train()\n",
        "    G.train()\n",
        "    D.train()\n",
        "\n",
        "    for i, (images, labels) in enumerate(train_loader):\n",
        "        images = images.to(device)\n",
        "        images = images.reshape(images.size(0),-1)\n",
        "\n",
        "        #initialize z\n",
        "        z = torch.randn(images.size(0), 50).to(device)\n",
        "        # z = 2 * torch.rand(images.size(0), 50) - 1\n",
        "        # z = z.to(device)\n",
        "\n",
        "        #compute images from G(z) and E(X)\n",
        "        Gz = G(z)\n",
        "        EX = E(images)\n",
        "\n",
        "        #compute D(G(z), z) and D(X, E(X))\n",
        "        DG = D(Gz, z)\n",
        "        DE = D(images, EX)\n",
        "\n",
        "        loss_D = D_loss(DG, DE)\n",
        "        loss_EG = EG_loss(DG, DE)\n",
        "        D_loss_acc += loss_D.item()\n",
        "        EG_loss_acc += loss_EG.item()\n",
        "\n",
        "        #Discriminator training\n",
        "        optimizer_D.zero_grad()\n",
        "        loss_D.backward(retain_graph=True) #two outputs\n",
        "        optimizer_D.step()\n",
        "\n",
        "        #Encoder & Generator training\n",
        "        optimizer_EG.zero_grad()\n",
        "        loss_EG.backward()\n",
        "        optimizer_EG.step()\n",
        "\n",
        "    if (epoch + 1) % 10 == 0:\n",
        "        print('Epoch [{}/{}], Avg_Loss_D: {:.4f}, Avg_Loss_EG: {:.4f}'\n",
        "              .format(epoch + 1, n_epochs, D_loss_acc / i, EG_loss_acc / i))\n",
        "        n_show = 10\n",
        "        D.eval()\n",
        "        E.eval()\n",
        "        G.eval()\n",
        "        with torch.no_grad():\n",
        "            real = images[:n_show]\n",
        "            z = 2 * torch.rand(n_show, 50) - 1\n",
        "            z = z.to(device)\n",
        "            gener = G(z).reshape(n_show, 28, 28).cpu().numpy()\n",
        "            recon = G(E(real)).reshape(n_show, 28, 28).cpu().numpy()\n",
        "            real = real.reshape(n_show, 28, 28).cpu().numpy()\n",
        "\n",
        "            fig, ax = plt.subplots(3, n_show, figsize=(15,5))\n",
        "            fig.subplots_adjust(wspace=0.05, hspace=0)\n",
        "            plt.rcParams.update({'font.size': 20})\n",
        "            fig.suptitle('Epoch {}'.format(epoch+1))\n",
        "            fig.text(0.04, 0.75, 'G(z)', ha='left')\n",
        "            fig.text(0.04, 0.5, 'x', ha='left')\n",
        "            fig.text(0.04, 0.25, 'G(E(x))', ha='left')\n",
        "\n",
        "            for i in range(n_show):\n",
        "                ax[0, i].imshow(gener[i], cmap='gray')\n",
        "                ax[0, i].axis('off')\n",
        "                ax[1, i].imshow(real[i], cmap='gray')\n",
        "                ax[1, i].axis('off')\n",
        "                ax[2, i].imshow(recon[i], cmap='gray')\n",
        "                ax[2, i].axis('off')\n",
        "            plt.show()"
      ],
      "metadata": {
        "id": "E0Q27eaJwky9"
      },
      "execution_count": null,
      "outputs": []
    },
    {
      "cell_type": "code",
      "source": [
        "torch.autograd.set_detect_anomaly(True)\n",
        "\n",
        "# Your existing code...\n",
        "\n",
        "for epoch in range(n_epochs):\n",
        "    D_loss_acc = 0.\n",
        "    EG_loss_acc = 0.\n",
        "    E.train()\n",
        "    G.train()\n",
        "    D.train()\n",
        "\n",
        "    for i, (images, labels) in enumerate(train_loader):\n",
        "        images = images.to(device)\n",
        "        images = images.reshape(images.size(0),-1)\n",
        "\n",
        "        #initialize z\n",
        "        z = torch.randn(images.size(0), 50).to(device)\n",
        "\n",
        "        #compute images from G(z) and E(X)\n",
        "        Gz = G(z)\n",
        "        EX = E(images)\n",
        "\n",
        "        #compute D(G(z), z) and D(X, E(X))\n",
        "        DG = D(Gz, z)\n",
        "        DE = D(images, EX)\n",
        "\n",
        "        loss_D = D_loss(DG, DE)\n",
        "        loss_EG = EG_loss(DG, DE)\n",
        "        D_loss_acc += loss_D.item()\n",
        "        EG_loss_acc += loss_EG.item()\n",
        "\n",
        "        #Discriminator training\n",
        "        optimizer_D.zero_grad()\n",
        "        loss_D.backward(retain_graph=True) #two outputs\n",
        "        optimizer_D.step()\n",
        "\n",
        "        #Encoder & Generator training\n",
        "        optimizer_EG.zero_grad()\n",
        "        loss_EG.backward(retain_graph=True)\n",
        "        optimizer_EG.step()\n"
      ],
      "metadata": {
        "id": "GsdNcZV1K8PU"
      },
      "execution_count": null,
      "outputs": []
    },
    {
      "cell_type": "code",
      "source": [
        "# Оптимизаторы\n",
        "generator_optimizer = optim.Adam(G.parameters(), lr=0.0001, betas=(0.5, 0.999), weight_decay=1e-5)\n",
        "discriminator_optimizer = optim.Adam(D.parameters(), lr=0.0001, betas=(0.5, 0.999), weight_decay=1e-5)\n",
        "encoder_optimizer = optim.Adam(E.parameters(), lr=0.0001, betas=(0.5, 0.999), weight_decay=1e-5)\n",
        "\n",
        "# Обучение модели\n",
        "for epoch in range(10):\n",
        "    D_loss_acc = 0.\n",
        "    EG_loss_acc = 0.\n",
        "    E.train()\n",
        "    G.train()\n",
        "    D.train()\n",
        "\n",
        "    for i, (images, _) in enumerate(train_loader):\n",
        "        # Генерация случайных векторов\n",
        "        z = torch.randn(images.shape[0], 50).to(device)\n",
        "        images = images.to(device)\n",
        "        images = images.reshape(images.size(0),-1)\n",
        "        # Генерация изображений из случайных векторов\n",
        "        generated_images = G(z) #Gz\n",
        "\n",
        "        # Кодирование изображений в случайные векторы\n",
        "        encoded_images = E(images) #Ex\n",
        "\n",
        "        # Обучение генератора\n",
        "        generator_loss = EG_loss(D(generated_images, z), D(images, encoded_images))\n",
        "        generator_optimizer.zero_grad()\n",
        "        generator_loss.backward(retain_graph=True)\n",
        "        generator_optimizer.step()\n",
        "\n",
        "        # Обучение дискриминатора\n",
        "        discriminator_loss = D_loss(D(generated_images, z), D(images, encoded_images))\n",
        "        discriminator_optimizer.zero_grad()\n",
        "        discriminator_loss.backward(retain_graph=True)\n",
        "        discriminator_optimizer.step()\n",
        "\n",
        "        # Обучение кодировщика\n",
        "        encoder_loss = EG_loss(D(images, encoded_images), D(images, z))\n",
        "        encoder_optimizer.zero_grad()\n",
        "        encoder_loss.backward()\n",
        "        encoder_optimizer.step()\n",
        "\n",
        "        if i % 100 == 0:\n",
        "            print('Epoch [{}/{}], Step [{}/{}], Generator Loss: {:.4f}, Discriminator Loss: {:.4f}, Encoder Loss: {:.4f}'\n",
        "                  .format(epoch + 1, 10, i + 1, len(train_loader), generator_loss.item(), discriminator_loss.item(), encoder_loss.item()))\n",
        "\n",
        "        if (epoch + 1) % 10 == 0:\n",
        "          print('Epoch [{}/{}], Avg_Loss_D: {:.4f}, Avg_Loss_EG: {:.4f}'\n",
        "                .format(epoch + 1, n_epochs, D_loss_acc / i, EG_loss_acc / i))\n",
        "          n_show = 10\n",
        "          D.eval()\n",
        "          E.eval()\n",
        "          G.eval()\n",
        "\n",
        "          with torch.no_grad():\n",
        "              real = images[:n_show]\n",
        "              z = 2 * torch.rand(n_show, 50) - 1\n",
        "              z = z.to(device)\n",
        "              gener = G(z).reshape(n_show, 28, 28).cpu().numpy()\n",
        "              recon = G(E(real)).reshape(n_show, 28, 28).cpu().numpy()\n",
        "              real = real.reshape(n_show, 28, 28).cpu().numpy()\n",
        "\n",
        "              fig, ax = plt.subplots(3, n_show, figsize=(15,5))\n",
        "              fig.subplots_adjust(wspace=0.05, hspace=0)\n",
        "              plt.rcParams.update({'font.size': 20})\n",
        "              fig.suptitle('Epoch {}'.format(epoch+1))\n",
        "              fig.text(0.04, 0.75, 'G(z)', ha='left')\n",
        "              fig.text(0.04, 0.5, 'x', ha='left')\n",
        "              fig.text(0.04, 0.25, 'G(E(x))', ha='left')\n",
        "\n",
        "              for i in range(n_show):\n",
        "                  ax[0, i].imshow(gener[i], cmap='gray')\n",
        "                  ax[0, i].axis('off')\n",
        "                  ax[1, i].imshow(real[i], cmap='gray')\n",
        "                  ax[1, i].axis('off')\n",
        "                  ax[2, i].imshow(recon[i], cmap='gray')\n",
        "                  ax[2, i].axis('off')\n",
        "              plt.show()"
      ],
      "metadata": {
        "colab": {
          "base_uri": "https://localhost:8080/",
          "height": 435
        },
        "id": "EC6mqT_xG83k",
        "outputId": "1f0f882d-c1f9-421a-8728-8507f6f08e19"
      },
      "execution_count": null,
      "outputs": [
        {
          "output_type": "stream",
          "name": "stdout",
          "text": [
            "Epoch [1/10], Step [1/1875], Generator Loss: 1.3400, Discriminator Loss: 1.4561, Encoder Loss: 1.3842\n"
          ]
        },
        {
          "output_type": "error",
          "ename": "KeyboardInterrupt",
          "evalue": "",
          "traceback": [
            "\u001b[0;31m---------------------------------------------------------------------------\u001b[0m",
            "\u001b[0;31mKeyboardInterrupt\u001b[0m                         Traceback (most recent call last)",
            "\u001b[0;32m<ipython-input-15-c84c10a8e658>\u001b[0m in \u001b[0;36m<cell line: 7>\u001b[0;34m()\u001b[0m\n\u001b[1;32m     12\u001b[0m     \u001b[0mD\u001b[0m\u001b[0;34m.\u001b[0m\u001b[0mtrain\u001b[0m\u001b[0;34m(\u001b[0m\u001b[0;34m)\u001b[0m\u001b[0;34m\u001b[0m\u001b[0;34m\u001b[0m\u001b[0m\n\u001b[1;32m     13\u001b[0m \u001b[0;34m\u001b[0m\u001b[0m\n\u001b[0;32m---> 14\u001b[0;31m     \u001b[0;32mfor\u001b[0m \u001b[0mi\u001b[0m\u001b[0;34m,\u001b[0m \u001b[0;34m(\u001b[0m\u001b[0mimages\u001b[0m\u001b[0;34m,\u001b[0m \u001b[0m_\u001b[0m\u001b[0;34m)\u001b[0m \u001b[0;32min\u001b[0m \u001b[0menumerate\u001b[0m\u001b[0;34m(\u001b[0m\u001b[0mtrain_loader\u001b[0m\u001b[0;34m)\u001b[0m\u001b[0;34m:\u001b[0m\u001b[0;34m\u001b[0m\u001b[0;34m\u001b[0m\u001b[0m\n\u001b[0m\u001b[1;32m     15\u001b[0m         \u001b[0;31m# Генерация случайных векторов\u001b[0m\u001b[0;34m\u001b[0m\u001b[0;34m\u001b[0m\u001b[0m\n\u001b[1;32m     16\u001b[0m         \u001b[0mz\u001b[0m \u001b[0;34m=\u001b[0m \u001b[0mtorch\u001b[0m\u001b[0;34m.\u001b[0m\u001b[0mrandn\u001b[0m\u001b[0;34m(\u001b[0m\u001b[0mimages\u001b[0m\u001b[0;34m.\u001b[0m\u001b[0mshape\u001b[0m\u001b[0;34m[\u001b[0m\u001b[0;36m0\u001b[0m\u001b[0;34m]\u001b[0m\u001b[0;34m,\u001b[0m \u001b[0;36m50\u001b[0m\u001b[0;34m)\u001b[0m\u001b[0;34m.\u001b[0m\u001b[0mto\u001b[0m\u001b[0;34m(\u001b[0m\u001b[0mdevice\u001b[0m\u001b[0;34m)\u001b[0m\u001b[0;34m\u001b[0m\u001b[0;34m\u001b[0m\u001b[0m\n",
            "\u001b[0;32m/usr/local/lib/python3.10/dist-packages/torch/utils/data/dataloader.py\u001b[0m in \u001b[0;36m__next__\u001b[0;34m(self)\u001b[0m\n\u001b[1;32m    628\u001b[0m                 \u001b[0;31m# TODO(https://github.com/pytorch/pytorch/issues/76750)\u001b[0m\u001b[0;34m\u001b[0m\u001b[0;34m\u001b[0m\u001b[0m\n\u001b[1;32m    629\u001b[0m                 \u001b[0mself\u001b[0m\u001b[0;34m.\u001b[0m\u001b[0m_reset\u001b[0m\u001b[0;34m(\u001b[0m\u001b[0;34m)\u001b[0m  \u001b[0;31m# type: ignore[call-arg]\u001b[0m\u001b[0;34m\u001b[0m\u001b[0;34m\u001b[0m\u001b[0m\n\u001b[0;32m--> 630\u001b[0;31m             \u001b[0mdata\u001b[0m \u001b[0;34m=\u001b[0m \u001b[0mself\u001b[0m\u001b[0;34m.\u001b[0m\u001b[0m_next_data\u001b[0m\u001b[0;34m(\u001b[0m\u001b[0;34m)\u001b[0m\u001b[0;34m\u001b[0m\u001b[0;34m\u001b[0m\u001b[0m\n\u001b[0m\u001b[1;32m    631\u001b[0m             \u001b[0mself\u001b[0m\u001b[0;34m.\u001b[0m\u001b[0m_num_yielded\u001b[0m \u001b[0;34m+=\u001b[0m \u001b[0;36m1\u001b[0m\u001b[0;34m\u001b[0m\u001b[0;34m\u001b[0m\u001b[0m\n\u001b[1;32m    632\u001b[0m             \u001b[0;32mif\u001b[0m \u001b[0mself\u001b[0m\u001b[0;34m.\u001b[0m\u001b[0m_dataset_kind\u001b[0m \u001b[0;34m==\u001b[0m \u001b[0m_DatasetKind\u001b[0m\u001b[0;34m.\u001b[0m\u001b[0mIterable\u001b[0m \u001b[0;32mand\u001b[0m\u001b[0;31m \u001b[0m\u001b[0;31m\\\u001b[0m\u001b[0;34m\u001b[0m\u001b[0;34m\u001b[0m\u001b[0m\n",
            "\u001b[0;32m/usr/local/lib/python3.10/dist-packages/torch/utils/data/dataloader.py\u001b[0m in \u001b[0;36m_next_data\u001b[0;34m(self)\u001b[0m\n\u001b[1;32m    672\u001b[0m     \u001b[0;32mdef\u001b[0m \u001b[0m_next_data\u001b[0m\u001b[0;34m(\u001b[0m\u001b[0mself\u001b[0m\u001b[0;34m)\u001b[0m\u001b[0;34m:\u001b[0m\u001b[0;34m\u001b[0m\u001b[0;34m\u001b[0m\u001b[0m\n\u001b[1;32m    673\u001b[0m         \u001b[0mindex\u001b[0m \u001b[0;34m=\u001b[0m \u001b[0mself\u001b[0m\u001b[0;34m.\u001b[0m\u001b[0m_next_index\u001b[0m\u001b[0;34m(\u001b[0m\u001b[0;34m)\u001b[0m  \u001b[0;31m# may raise StopIteration\u001b[0m\u001b[0;34m\u001b[0m\u001b[0;34m\u001b[0m\u001b[0m\n\u001b[0;32m--> 674\u001b[0;31m         \u001b[0mdata\u001b[0m \u001b[0;34m=\u001b[0m \u001b[0mself\u001b[0m\u001b[0;34m.\u001b[0m\u001b[0m_dataset_fetcher\u001b[0m\u001b[0;34m.\u001b[0m\u001b[0mfetch\u001b[0m\u001b[0;34m(\u001b[0m\u001b[0mindex\u001b[0m\u001b[0;34m)\u001b[0m  \u001b[0;31m# may raise StopIteration\u001b[0m\u001b[0;34m\u001b[0m\u001b[0;34m\u001b[0m\u001b[0m\n\u001b[0m\u001b[1;32m    675\u001b[0m         \u001b[0;32mif\u001b[0m \u001b[0mself\u001b[0m\u001b[0;34m.\u001b[0m\u001b[0m_pin_memory\u001b[0m\u001b[0;34m:\u001b[0m\u001b[0;34m\u001b[0m\u001b[0;34m\u001b[0m\u001b[0m\n\u001b[1;32m    676\u001b[0m             \u001b[0mdata\u001b[0m \u001b[0;34m=\u001b[0m \u001b[0m_utils\u001b[0m\u001b[0;34m.\u001b[0m\u001b[0mpin_memory\u001b[0m\u001b[0;34m.\u001b[0m\u001b[0mpin_memory\u001b[0m\u001b[0;34m(\u001b[0m\u001b[0mdata\u001b[0m\u001b[0;34m,\u001b[0m \u001b[0mself\u001b[0m\u001b[0;34m.\u001b[0m\u001b[0m_pin_memory_device\u001b[0m\u001b[0;34m)\u001b[0m\u001b[0;34m\u001b[0m\u001b[0;34m\u001b[0m\u001b[0m\n",
            "\u001b[0;32m/usr/local/lib/python3.10/dist-packages/torch/utils/data/_utils/fetch.py\u001b[0m in \u001b[0;36mfetch\u001b[0;34m(self, possibly_batched_index)\u001b[0m\n\u001b[1;32m     49\u001b[0m                 \u001b[0mdata\u001b[0m \u001b[0;34m=\u001b[0m \u001b[0mself\u001b[0m\u001b[0;34m.\u001b[0m\u001b[0mdataset\u001b[0m\u001b[0;34m.\u001b[0m\u001b[0m__getitems__\u001b[0m\u001b[0;34m(\u001b[0m\u001b[0mpossibly_batched_index\u001b[0m\u001b[0;34m)\u001b[0m\u001b[0;34m\u001b[0m\u001b[0;34m\u001b[0m\u001b[0m\n\u001b[1;32m     50\u001b[0m             \u001b[0;32melse\u001b[0m\u001b[0;34m:\u001b[0m\u001b[0;34m\u001b[0m\u001b[0;34m\u001b[0m\u001b[0m\n\u001b[0;32m---> 51\u001b[0;31m                 \u001b[0mdata\u001b[0m \u001b[0;34m=\u001b[0m \u001b[0;34m[\u001b[0m\u001b[0mself\u001b[0m\u001b[0;34m.\u001b[0m\u001b[0mdataset\u001b[0m\u001b[0;34m[\u001b[0m\u001b[0midx\u001b[0m\u001b[0;34m]\u001b[0m \u001b[0;32mfor\u001b[0m \u001b[0midx\u001b[0m \u001b[0;32min\u001b[0m \u001b[0mpossibly_batched_index\u001b[0m\u001b[0;34m]\u001b[0m\u001b[0;34m\u001b[0m\u001b[0;34m\u001b[0m\u001b[0m\n\u001b[0m\u001b[1;32m     52\u001b[0m         \u001b[0;32melse\u001b[0m\u001b[0;34m:\u001b[0m\u001b[0;34m\u001b[0m\u001b[0;34m\u001b[0m\u001b[0m\n\u001b[1;32m     53\u001b[0m             \u001b[0mdata\u001b[0m \u001b[0;34m=\u001b[0m \u001b[0mself\u001b[0m\u001b[0;34m.\u001b[0m\u001b[0mdataset\u001b[0m\u001b[0;34m[\u001b[0m\u001b[0mpossibly_batched_index\u001b[0m\u001b[0;34m]\u001b[0m\u001b[0;34m\u001b[0m\u001b[0;34m\u001b[0m\u001b[0m\n",
            "\u001b[0;32m/usr/local/lib/python3.10/dist-packages/torch/utils/data/_utils/fetch.py\u001b[0m in \u001b[0;36m<listcomp>\u001b[0;34m(.0)\u001b[0m\n\u001b[1;32m     49\u001b[0m                 \u001b[0mdata\u001b[0m \u001b[0;34m=\u001b[0m \u001b[0mself\u001b[0m\u001b[0;34m.\u001b[0m\u001b[0mdataset\u001b[0m\u001b[0;34m.\u001b[0m\u001b[0m__getitems__\u001b[0m\u001b[0;34m(\u001b[0m\u001b[0mpossibly_batched_index\u001b[0m\u001b[0;34m)\u001b[0m\u001b[0;34m\u001b[0m\u001b[0;34m\u001b[0m\u001b[0m\n\u001b[1;32m     50\u001b[0m             \u001b[0;32melse\u001b[0m\u001b[0;34m:\u001b[0m\u001b[0;34m\u001b[0m\u001b[0;34m\u001b[0m\u001b[0m\n\u001b[0;32m---> 51\u001b[0;31m                 \u001b[0mdata\u001b[0m \u001b[0;34m=\u001b[0m \u001b[0;34m[\u001b[0m\u001b[0mself\u001b[0m\u001b[0;34m.\u001b[0m\u001b[0mdataset\u001b[0m\u001b[0;34m[\u001b[0m\u001b[0midx\u001b[0m\u001b[0;34m]\u001b[0m \u001b[0;32mfor\u001b[0m \u001b[0midx\u001b[0m \u001b[0;32min\u001b[0m \u001b[0mpossibly_batched_index\u001b[0m\u001b[0;34m]\u001b[0m\u001b[0;34m\u001b[0m\u001b[0;34m\u001b[0m\u001b[0m\n\u001b[0m\u001b[1;32m     52\u001b[0m         \u001b[0;32melse\u001b[0m\u001b[0;34m:\u001b[0m\u001b[0;34m\u001b[0m\u001b[0;34m\u001b[0m\u001b[0m\n\u001b[1;32m     53\u001b[0m             \u001b[0mdata\u001b[0m \u001b[0;34m=\u001b[0m \u001b[0mself\u001b[0m\u001b[0;34m.\u001b[0m\u001b[0mdataset\u001b[0m\u001b[0;34m[\u001b[0m\u001b[0mpossibly_batched_index\u001b[0m\u001b[0;34m]\u001b[0m\u001b[0;34m\u001b[0m\u001b[0;34m\u001b[0m\u001b[0m\n",
            "\u001b[0;32m/usr/local/lib/python3.10/dist-packages/torchvision/datasets/mnist.py\u001b[0m in \u001b[0;36m__getitem__\u001b[0;34m(self, index)\u001b[0m\n\u001b[1;32m    143\u001b[0m \u001b[0;34m\u001b[0m\u001b[0m\n\u001b[1;32m    144\u001b[0m         \u001b[0;32mif\u001b[0m \u001b[0mself\u001b[0m\u001b[0;34m.\u001b[0m\u001b[0mtransform\u001b[0m \u001b[0;32mis\u001b[0m \u001b[0;32mnot\u001b[0m \u001b[0;32mNone\u001b[0m\u001b[0;34m:\u001b[0m\u001b[0;34m\u001b[0m\u001b[0;34m\u001b[0m\u001b[0m\n\u001b[0;32m--> 145\u001b[0;31m             \u001b[0mimg\u001b[0m \u001b[0;34m=\u001b[0m \u001b[0mself\u001b[0m\u001b[0;34m.\u001b[0m\u001b[0mtransform\u001b[0m\u001b[0;34m(\u001b[0m\u001b[0mimg\u001b[0m\u001b[0;34m)\u001b[0m\u001b[0;34m\u001b[0m\u001b[0;34m\u001b[0m\u001b[0m\n\u001b[0m\u001b[1;32m    146\u001b[0m \u001b[0;34m\u001b[0m\u001b[0m\n\u001b[1;32m    147\u001b[0m         \u001b[0;32mif\u001b[0m \u001b[0mself\u001b[0m\u001b[0;34m.\u001b[0m\u001b[0mtarget_transform\u001b[0m \u001b[0;32mis\u001b[0m \u001b[0;32mnot\u001b[0m \u001b[0;32mNone\u001b[0m\u001b[0;34m:\u001b[0m\u001b[0;34m\u001b[0m\u001b[0;34m\u001b[0m\u001b[0m\n",
            "\u001b[0;32m/usr/local/lib/python3.10/dist-packages/torchvision/transforms/transforms.py\u001b[0m in \u001b[0;36m__call__\u001b[0;34m(self, img)\u001b[0m\n\u001b[1;32m     93\u001b[0m     \u001b[0;32mdef\u001b[0m \u001b[0m__call__\u001b[0m\u001b[0;34m(\u001b[0m\u001b[0mself\u001b[0m\u001b[0;34m,\u001b[0m \u001b[0mimg\u001b[0m\u001b[0;34m)\u001b[0m\u001b[0;34m:\u001b[0m\u001b[0;34m\u001b[0m\u001b[0;34m\u001b[0m\u001b[0m\n\u001b[1;32m     94\u001b[0m         \u001b[0;32mfor\u001b[0m \u001b[0mt\u001b[0m \u001b[0;32min\u001b[0m \u001b[0mself\u001b[0m\u001b[0;34m.\u001b[0m\u001b[0mtransforms\u001b[0m\u001b[0;34m:\u001b[0m\u001b[0;34m\u001b[0m\u001b[0;34m\u001b[0m\u001b[0m\n\u001b[0;32m---> 95\u001b[0;31m             \u001b[0mimg\u001b[0m \u001b[0;34m=\u001b[0m \u001b[0mt\u001b[0m\u001b[0;34m(\u001b[0m\u001b[0mimg\u001b[0m\u001b[0;34m)\u001b[0m\u001b[0;34m\u001b[0m\u001b[0;34m\u001b[0m\u001b[0m\n\u001b[0m\u001b[1;32m     96\u001b[0m         \u001b[0;32mreturn\u001b[0m \u001b[0mimg\u001b[0m\u001b[0;34m\u001b[0m\u001b[0;34m\u001b[0m\u001b[0m\n\u001b[1;32m     97\u001b[0m \u001b[0;34m\u001b[0m\u001b[0m\n",
            "\u001b[0;32m/usr/local/lib/python3.10/dist-packages/torchvision/transforms/transforms.py\u001b[0m in \u001b[0;36m__call__\u001b[0;34m(self, pic)\u001b[0m\n\u001b[1;32m    135\u001b[0m             \u001b[0mTensor\u001b[0m\u001b[0;34m:\u001b[0m \u001b[0mConverted\u001b[0m \u001b[0mimage\u001b[0m\u001b[0;34m.\u001b[0m\u001b[0;34m\u001b[0m\u001b[0;34m\u001b[0m\u001b[0m\n\u001b[1;32m    136\u001b[0m         \"\"\"\n\u001b[0;32m--> 137\u001b[0;31m         \u001b[0;32mreturn\u001b[0m \u001b[0mF\u001b[0m\u001b[0;34m.\u001b[0m\u001b[0mto_tensor\u001b[0m\u001b[0;34m(\u001b[0m\u001b[0mpic\u001b[0m\u001b[0;34m)\u001b[0m\u001b[0;34m\u001b[0m\u001b[0;34m\u001b[0m\u001b[0m\n\u001b[0m\u001b[1;32m    138\u001b[0m \u001b[0;34m\u001b[0m\u001b[0m\n\u001b[1;32m    139\u001b[0m     \u001b[0;32mdef\u001b[0m \u001b[0m__repr__\u001b[0m\u001b[0;34m(\u001b[0m\u001b[0mself\u001b[0m\u001b[0;34m)\u001b[0m \u001b[0;34m->\u001b[0m \u001b[0mstr\u001b[0m\u001b[0;34m:\u001b[0m\u001b[0;34m\u001b[0m\u001b[0;34m\u001b[0m\u001b[0m\n",
            "\u001b[0;32m/usr/local/lib/python3.10/dist-packages/torchvision/transforms/functional.py\u001b[0m in \u001b[0;36mto_tensor\u001b[0;34m(pic)\u001b[0m\n\u001b[1;32m    172\u001b[0m     \u001b[0mimg\u001b[0m \u001b[0;34m=\u001b[0m \u001b[0mimg\u001b[0m\u001b[0;34m.\u001b[0m\u001b[0mpermute\u001b[0m\u001b[0;34m(\u001b[0m\u001b[0;34m(\u001b[0m\u001b[0;36m2\u001b[0m\u001b[0;34m,\u001b[0m \u001b[0;36m0\u001b[0m\u001b[0;34m,\u001b[0m \u001b[0;36m1\u001b[0m\u001b[0;34m)\u001b[0m\u001b[0;34m)\u001b[0m\u001b[0;34m.\u001b[0m\u001b[0mcontiguous\u001b[0m\u001b[0;34m(\u001b[0m\u001b[0;34m)\u001b[0m\u001b[0;34m\u001b[0m\u001b[0;34m\u001b[0m\u001b[0m\n\u001b[1;32m    173\u001b[0m     \u001b[0;32mif\u001b[0m \u001b[0misinstance\u001b[0m\u001b[0;34m(\u001b[0m\u001b[0mimg\u001b[0m\u001b[0;34m,\u001b[0m \u001b[0mtorch\u001b[0m\u001b[0;34m.\u001b[0m\u001b[0mByteTensor\u001b[0m\u001b[0;34m)\u001b[0m\u001b[0;34m:\u001b[0m\u001b[0;34m\u001b[0m\u001b[0;34m\u001b[0m\u001b[0m\n\u001b[0;32m--> 174\u001b[0;31m         \u001b[0;32mreturn\u001b[0m \u001b[0mimg\u001b[0m\u001b[0;34m.\u001b[0m\u001b[0mto\u001b[0m\u001b[0;34m(\u001b[0m\u001b[0mdtype\u001b[0m\u001b[0;34m=\u001b[0m\u001b[0mdefault_float_dtype\u001b[0m\u001b[0;34m)\u001b[0m\u001b[0;34m.\u001b[0m\u001b[0mdiv\u001b[0m\u001b[0;34m(\u001b[0m\u001b[0;36m255\u001b[0m\u001b[0;34m)\u001b[0m\u001b[0;34m\u001b[0m\u001b[0;34m\u001b[0m\u001b[0m\n\u001b[0m\u001b[1;32m    175\u001b[0m     \u001b[0;32melse\u001b[0m\u001b[0;34m:\u001b[0m\u001b[0;34m\u001b[0m\u001b[0;34m\u001b[0m\u001b[0m\n\u001b[1;32m    176\u001b[0m         \u001b[0;32mreturn\u001b[0m \u001b[0mimg\u001b[0m\u001b[0;34m\u001b[0m\u001b[0;34m\u001b[0m\u001b[0m\n",
            "\u001b[0;31mKeyboardInterrupt\u001b[0m: "
          ]
        }
      ]
    },
    {
      "cell_type": "code",
      "source": [
        "          D.eval()\n",
        "          E.eval()\n",
        "          G.eval()\n",
        "          n_show =10\n",
        "          with torch.no_grad():\n",
        "              real = images[:n_show]\n",
        "              z = 2 * torch.rand(n_show, 50) - 1\n",
        "              z = z.to(device)\n",
        "              gener = G(z).reshape(n_show, 28, 28).cpu().numpy()\n",
        "              recon = G(E(real)).reshape(n_show, 28, 28).cpu().numpy()\n",
        "              real = real.reshape(n_show, 28, 28).cpu().numpy()\n",
        "\n",
        "              fig, ax = plt.subplots(3, n_show, figsize=(15,5))\n",
        "              fig.subplots_adjust(wspace=0.05, hspace=0)\n",
        "              plt.rcParams.update({'font.size': 20})\n",
        "              fig.suptitle('Epoch {}'.format(epoch+1))\n",
        "              fig.text(0.04, 0.75, 'G(z)', ha='left')\n",
        "              fig.text(0.04, 0.5, 'x', ha='left')\n",
        "              fig.text(0.04, 0.25, 'G(E(x))', ha='left')\n",
        "\n",
        "              for i in range(n_show):\n",
        "                  ax[0, i].imshow(gener[i], cmap='gray')\n",
        "                  ax[0, i].axis('off')\n",
        "                  ax[1, i].imshow(real[i], cmap='gray')\n",
        "                  ax[1, i].axis('off')\n",
        "                  ax[2, i].imshow(recon[i], cmap='gray')\n",
        "                  ax[2, i].axis('off')\n",
        "              plt.show()"
      ],
      "metadata": {
        "colab": {
          "base_uri": "https://localhost:8080/",
          "height": 463
        },
        "id": "JO2Sf3ocUY4M",
        "outputId": "d7893e76-681f-4d63-c705-a6c989bbbabb"
      },
      "execution_count": null,
      "outputs": [
        {
          "output_type": "display_data",
          "data": {
            "text/plain": [
              "<Figure size 1500x500 with 30 Axes>"
            ],
            "image/png": "[encoded data removed]"
          },
          "metadata": {}
        }
      ]
    },
    {
      "cell_type": "code",
      "source": [
        "def generate_digit(generator, digit):\n",
        "    z = torch.randn(1, 100).to(device)\n",
        "    label = torch.LongTensor([digit]).to(device)\n",
        "    img = generator(z, label).data.cpu()\n",
        "    img = 0.5 * img + 0.5\n",
        "    return transforms.ToPILImage()(img)"
      ],
      "metadata": {
        "id": "yJ4RV1zHG6Ng"
      },
      "execution_count": null,
      "outputs": []
    }
  ]
}